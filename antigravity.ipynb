{
 "cells": [
  {
   "cell_type": "code",
   "execution_count": 68,
   "metadata": {},
   "outputs": [],
   "source": [
    "# Dependencies\n",
    "import numpy as np\n",
    "import pandas as pd\n",
    "import matplotlib.pyplot as plt\n",
    "import requests\n",
    "import json\n",
    "import quandl\n",
    "import os\n",
    "import csv"
   ]
  },
  {
   "cell_type": "code",
   "execution_count": 69,
   "metadata": {},
   "outputs": [],
   "source": [
    "# Quandl API Keys\n",
    "#from config import api_key\n",
    "api_key = \"96042e6658cd41ef3713d6df5e943609\""
   ]
  },
  {
   "cell_type": "code",
   "execution_count": 70,
   "metadata": {},
   "outputs": [
    {
     "ename": "ModuleNotFoundError",
     "evalue": "No module named 'fredapi'",
     "output_type": "error",
     "traceback": [
      "\u001b[1;31m---------------------------------------------------------------------------\u001b[0m",
      "\u001b[1;31mModuleNotFoundError\u001b[0m                       Traceback (most recent call last)",
      "\u001b[1;32m<ipython-input-70-e99c80d934db>\u001b[0m in \u001b[0;36m<module>\u001b[1;34m()\u001b[0m\n\u001b[0;32m      1\u001b[0m \u001b[1;31m#Python API for FRED (Federal Reserve Economic Data) and ALFRED (Archival FRED)\u001b[0m\u001b[1;33m\u001b[0m\u001b[1;33m\u001b[0m\u001b[0m\n\u001b[1;32m----> 2\u001b[1;33m \u001b[1;32mfrom\u001b[0m \u001b[0mfredapi\u001b[0m \u001b[1;32mimport\u001b[0m \u001b[0mFred\u001b[0m\u001b[1;33m\u001b[0m\u001b[0m\n\u001b[0m",
      "\u001b[1;31mModuleNotFoundError\u001b[0m: No module named 'fredapi'"
     ]
    }
   ],
   "source": [
    "#Python API for FRED (Federal Reserve Economic Data) and ALFRED (Archival FRED)\n",
    "from fredapi import Fred"
   ]
  },
  {
   "cell_type": "code",
   "execution_count": null,
   "metadata": {},
   "outputs": [],
   "source": [
    "#Delinquency Rate on Single-Family Residential Mortgages\n",
    "Delinquencydata = quandl.get(\"FRED/DRSFRMACBN\", authtoken=\"y7AX1dy3giQQhANZj-7n\", start_date=\"2000-01-01\")"
   ]
  },
  {
   "cell_type": "code",
   "execution_count": null,
   "metadata": {},
   "outputs": [],
   "source": [
    "Delinquencydata.head()"
   ]
  },
  {
   "cell_type": "code",
   "execution_count": null,
   "metadata": {},
   "outputs": [],
   "source": [
    "Delinquencydata = Delinquencydata.reset_index()\n",
    "x_vals = Delinquencydata[\"Date\"]\n",
    "y_vals = Delinquencydata[\"Value\"]\n",
    "plt.plot(x_vals,\n",
    "        y_vals, marker=\"o\", linewidth=0.5,\n",
    "        alpha=0.8)\n",
    "# Add labels to the x and y axes and a title\n",
    "plt.title(\"Delinquency Rate on Single-Family Residential Mortgages\")\n",
    "plt.xlabel(\"Years\")\n",
    "plt.ylabel(\"Percent\")\n",
    "plt.show()"
   ]
  },
  {
   "cell_type": "code",
   "execution_count": null,
   "metadata": {},
   "outputs": [],
   "source": [
    "# US Corporate Bonds Total Return Index\n",
    "USCorpBondsTRIndex = quandl.get(\"ML/TRI\", authtoken=\"y7AX1dy3giQQhANZj-7n\", start_date=\"2000-01-01\")"
   ]
  },
  {
   "cell_type": "code",
   "execution_count": null,
   "metadata": {},
   "outputs": [],
   "source": [
    "USCorpBondsTRIndex.head()"
   ]
  },
  {
   "cell_type": "code",
   "execution_count": null,
   "metadata": {},
   "outputs": [],
   "source": [
    "USCorpBondsTRIndex = USCorpBondsTRIndex.reset_index()\n",
    "USCorpBondsTRIndex.head()\n",
    "x_vals = USCorpBondsTRIndex[\"DATE\"]\n",
    "y_vals = USCorpBondsTRIndex[\"BAMLCC0A0CMTRIV\"]\n",
    "plt.plot(x_vals,\n",
    "        y_vals, marker=\"o\", linewidth=0.5,\n",
    "        alpha=0.8)\n",
    "# Add labels to the x and y axes and a title\n",
    "plt.title(\"US Corporate Bonds Total Return Index\")\n",
    "plt.xlabel(\"Years\")\n",
    "plt.ylabel(\"Bond Yield\")\n",
    "plt.show()"
   ]
  },
  {
   "cell_type": "code",
   "execution_count": null,
   "metadata": {},
   "outputs": [],
   "source": [
    "# Household Debt to GDP for United States\n",
    "from fredapi import Fred\n",
    "fred = Fred(api_key='96042e6658cd41ef3713d6df5e943609')\n",
    "data = fred.get_series('HDTGPDUSQ163N', '1/1/2000', '1/10/2018')\n",
    "data_df = pd.DataFrame(data)\n",
    "data_df = data_df.reset_index()\n",
    "data_df.columns = ['Year','Ratio']\n",
    "data_df.head()\n"
   ]
  },
  {
   "cell_type": "code",
   "execution_count": null,
   "metadata": {},
   "outputs": [],
   "source": [
    "# Plot U.S. Corporations: Short-term Debt (API KEY QFR301376USNO)\n",
    "x_vals = data_df[\"Year\"]\n",
    "y_vals = data_df[\"Ratio\"]\n",
    "plt.plot(x_vals,\n",
    "        y_vals, marker=\"o\", linewidth=0.5,\n",
    "        alpha=0.8)\n",
    "# Add labels to the x and y axes and a title\n",
    "plt.title(\"Household Debt to GDP for United States\")\n",
    "plt.xlabel(\"Years\")\n",
    "plt.ylabel(\"Household Debt to GDP Ratio\")\n",
    "plt.show()"
   ]
  },
  {
   "cell_type": "code",
   "execution_count": null,
   "metadata": {},
   "outputs": [],
   "source": [
    "# Nonfinancial corporate business; debt securities; liability, Level\n",
    "# FRED API_KEY NCBDBIQ027S\n",
    "from fredapi import Fred\n",
    "fred = Fred(api_key='96042e6658cd41ef3713d6df5e943609')\n",
    "data = fred.get_series('NCBDBIQ027S', '1/1/2000', '1/10/2018')\n",
    "data_df = pd.DataFrame(data)\n",
    "data_df = data_df.reset_index()\n",
    "data_df.columns = ['Year','Millions of Dollars']\n",
    "data_df.head()\n"
   ]
  },
  {
   "cell_type": "code",
   "execution_count": null,
   "metadata": {},
   "outputs": [],
   "source": [
    "# Plot Nonfinancial corporate business; debt securities; liability, Level\n",
    "# FRED API_KEY NCBDBIQ027S\n",
    "x_vals = data_df[\"Year\"]\n",
    "y_vals = data_df[\"Millions of Dollars\"]\n",
    "plt.plot(x_vals,\n",
    "        y_vals, marker=\"o\", linewidth=0.5,\n",
    "        alpha=0.8)\n",
    "# Add labels to the x and y axes and a title\n",
    "plt.title(\"Corporate Business Debt in United States\")\n",
    "plt.xlabel(\"Years\")\n",
    "plt.ylabel(\"Outstanding Corporate Debt In Millions of Dollars\")\n",
    "plt.show()"
   ]
  },
  {
   "cell_type": "code",
   "execution_count": null,
   "metadata": {},
   "outputs": [],
   "source": [
    "# Federal Debt: Total Public Debt as Percent of Gross Domestic Product\n",
    "# FRED API_KEY GFDEGDQ188S\n",
    "from fredapi import Fred\n",
    "fred = Fred(api_key='96042e6658cd41ef3713d6df5e943609')\n",
    "data = fred.get_series('GFDEGDQ188S', '1/1/2000', '1/10/2018')\n",
    "data_df = pd.DataFrame(data)\n",
    "data_df = data_df.reset_index()\n",
    "data_df.columns = ['Year','Percent of GDP']\n",
    "data_df.head()\n"
   ]
  },
  {
   "cell_type": "code",
   "execution_count": null,
   "metadata": {},
   "outputs": [],
   "source": [
    "# Real Gross Domestic Product \n",
    "# FRED API_KEY GDP\n",
    "from fredapi import Fred\n",
    "fred = Fred(api_key='96042e6658cd41ef3713d6df5e943609')\n",
    "data = fred.get_series('GDP', '1/1/2000', '1/10/2018')\n",
    "data_df = pd.DataFrame(data)\n",
    "data_df = data_df.reset_index()\n",
    "data_df.columns = ['Year','Billions of chained 2012 Dollars']\n",
    "data_df.head()"
   ]
  },
  {
   "cell_type": "code",
   "execution_count": null,
   "metadata": {},
   "outputs": [],
   "source": [
    "# S&P/Case-Shiller U.S. National Home Price Index \n",
    "# FRED API_KEY CSUSHPINSA\n",
    "from fredapi import Fred\n",
    "fred = Fred(api_key='96042e6658cd41ef3713d6df5e943609')\n",
    "data = fred.get_series('CSUSHPINSA', '1/1/2000', '1/10/2018')\n",
    "data_df = pd.DataFrame(data)\n",
    "data_df = data_df.reset_index()\n",
    "data_df.columns = ['Year','Case Index']\n",
    "data_df.head()"
   ]
  },
  {
   "cell_type": "code",
   "execution_count": null,
   "metadata": {},
   "outputs": [],
   "source": [
    "# plot \n",
    "x_vals = data_df[\"Year\"]\n",
    "y_vals = data_df[\"Case Index\"]\n",
    "plt.plot(x_vals,\n",
    "        y_vals, marker=\"o\", linewidth=0.5,\n",
    "        alpha=0.8)\n",
    "# Add labels to the x and y axes and a title\n",
    "plt.title(\"S&P/Case-Shiller U.S. National Home Price Index\")\n",
    "plt.xlabel(\"Years\")\n",
    "plt.ylabel(\"Index\")\n",
    "plt.show()"
   ]
  },
  {
   "cell_type": "code",
   "execution_count": null,
   "metadata": {},
   "outputs": [],
   "source": [
    "#Load CSV\n",
    "file_to_load = \"resource/TotalHousing.csv\"\n",
    "housing_data = pd.read_csv(file_to_load)\n",
    "\n",
    "#Remove extraneous rows\n",
    "update_housing_df=housing_data.drop(housing_data.index[19:52])\n",
    "\n",
    "#Remove repeated rows\n",
    "new_housing=update_housing_df.drop(update_housing_df.index[4])\n",
    "\n",
    "#Check data types\n",
    "new_housing.dtypes\n",
    "\n",
    "#Plot figure\n",
    "plt.figure(figsize=(10,8))\n",
    "x_axis=new_housing[\"Year\"]\n",
    "y_axis=new_housing[\"Estimate\"]\n",
    "plt.plot(x_axis,y_axis,marker=\"o\")\n",
    "plt.xlim(2000,2018)\n",
    "plt.ylim(50000,62000)\n",
    "plt.title(\"Household Median Income 2000-2018\")\n",
    "plt.xlabel(\"Year\")\n",
    "plt.ylabel(\"Median Income(USD)\")\n",
    "plt.show()\n",
    "\n",
    "#Save Figure\n",
    "    #plt.savefig(\"House Median Income.png\")\n",
    "\n",
    "#Percent Change\n"
   ]
  },
  {
   "cell_type": "code",
   "execution_count": null,
   "metadata": {},
   "outputs": [],
   "source": [
    "#reading csv's for student loans data\n",
    "file_1 = \"resource/loanportfolio.csv\"\n",
    "outstanding_loans = pd.read_csv(file_1)\n",
    "\n",
    "file_2 = \"resource/LoansData.csv\"\n",
    "loans_rate = pd.read_csv(file_2)\n",
    "\n",
    "file_3 = \"resource/Studentloans_delinquency.csv\"\n",
    "loansdelinquency_rate = pd.read_csv(file_3)\n"
   ]
  },
  {
   "cell_type": "code",
   "execution_count": null,
   "metadata": {},
   "outputs": [],
   "source": [
    "#Plotting total student loans over years\n",
    "plt.figure(figsize = (8,6))\n",
    "plt.plot(loans_rate[\"Year\"], loans_rate[\"2018 Loans Billions\"], marker = \"o\")\n",
    "plt.title(\"Year vs. Total Student Loans in 2018 dollars(Billions)\\n Data Source : College Board\")\n",
    "plt.xlabel(\"Year\")\n",
    "plt.xticks(rotation=70)\n",
    "plt.ylabel(\"Total Student Loans (Billions)\")\n",
    "plt.grid()\n",
    "plt.savefig(\"resource/YearvsTotalStudentLoans.png\", bbox_inches=\"tight\")"
   ]
  },
  {
   "cell_type": "code",
   "execution_count": null,
   "metadata": {},
   "outputs": [],
   "source": [
    "#plotting total recipients over years\n",
    "plt.figure(figsize = (8,6))\n",
    "x_axis = outstanding_loans[\"Year\"]\n",
    "y_axis = outstanding_loans[\"Total unduplicated recipients\"]\n",
    "plt.plot(x_axis,y_axis)\n",
    "plt.title(\"Year vs. Total Recipients (Millions)\")\n",
    "plt.xlabel(\"Year\")\n",
    "plt.xticks(rotation=70)\n",
    "plt.xticks(np.arange(min(x_axis), max(x_axis)+1, 1.0))\n",
    "plt.ylabel(\"Total Outstanding Student Loans (Millions)\")\n",
    "plt.grid()\n",
    "plt.text(2019,42, \"Data Source: NSLDS \\n 2018 4th quarter data unavailable\")\n",
    "plt.savefig(\"resource/YearvsTotalRecipients.png\", bbox_inches=\"tight\")"
   ]
  },
  {
   "cell_type": "code",
   "execution_count": null,
   "metadata": {},
   "outputs": [],
   "source": [
    "#plotting total outstanding loans over years\n",
    "plt.figure(figsize = (8,6))\n",
    "x_axis = outstanding_loans[\"Year\"]\n",
    "y_axis = outstanding_loans[\"Total Dollars Outstanding\"]\n",
    "plt.plot(x_axis,y_axis)\n",
    "plt.title(\"Year vs. Total Outstanding Student Loans (Billions)\")\n",
    "plt.xlabel(\"Year\")\n",
    "plt.xticks(rotation=70)\n",
    "plt.xticks(np.arange(min(x_axis), max(x_axis)+1, 1.0))\n",
    "plt.ylabel(\"Total Outstanding Student Loans (Billions)\")\n",
    "plt.grid()\n",
    "plt.text(2019,1300, \"Data Source: \\n National Student Loan Data System(NSLDS)\")\n",
    "plt.savefig(\"resource/YearvsTotalStudentLoansOutstanding.png\", bbox_inches=\"tight\")"
   ]
  },
  {
   "cell_type": "code",
   "execution_count": null,
   "metadata": {},
   "outputs": [],
   "source": [
    "#plotting student loans delinquency over years\n",
    "x_axis = loansdelinquency_rate[\"Year\"]\n",
    "y_axis = loansdelinquency_rate[\"Student Loan Delinquency\"]\n",
    "plt.figure(figsize = (8,6))\n",
    "plt.plot(x_axis,y_axis)\n",
    "plt.title(\"Year vs. Student Loan Delinquency(Billions$)\")\n",
    "plt.xlabel(\"Year\")\n",
    "plt.xticks(rotation=70)\n",
    "plt.xticks(np.arange(min(x_axis), max(x_axis)+1, 1.0))\n",
    "plt.ylabel(\"Student loan Delinquency(Billions$)\")\n",
    "plt.grid()\n",
    "plt.text(2019,32, \"Data Source: New York Fed Consumer Credit Panel \\n 2018 3rd and 4th quarter data unavailable\")\n",
    "plt.savefig(\"resource/YearvsStudentLoanDelinquincy.png\", bbox_inches=\"tight\")"
   ]
  },
  {
   "cell_type": "code",
   "execution_count": null,
   "metadata": {},
   "outputs": [],
   "source": [
    "#plotting student loans delinquency as percent over years\n",
    "x_axis = loansdelinquency_rate[\"Year\"]\n",
    "y_axis = loansdelinquency_rate[\"Percent Total Debt \"]\n",
    "plt.figure(figsize = (8,6))\n",
    "plt.plot(x_axis, y_axis)\n",
    "plt.title(\"Year vs. Student Loan Delinquency(% Total Debt)\")\n",
    "plt.xlabel(\"Year\")\n",
    "plt.xticks(rotation=70)\n",
    "plt.xticks(np.arange(min(x_axis), max(x_axis)+1, 1.0))\n",
    "plt.ylabel(\"Student loan Delinquency(% Total Debt)\")\n",
    "plt.grid()\n",
    "plt.text(2019,11, \"Data Source: New York Fed Consumer Credit Panel \\n 2018 3rd and 4th quarter data unavailable\")\n",
    "plt.savefig(\"resource/YearvsPercentDelinquency.png\", bbox_inches=\"tight\")"
   ]
  },
  {
   "cell_type": "code",
   "execution_count": null,
   "metadata": {},
   "outputs": [],
   "source": [
    "url_leon = \"https://www.quandl.com/api/v3/datasets/FRED/NROUST.json?\"\n",
    "api_key1 = \"QssxeUFzbDLsGy2VRwxV\"\n",
    "query_unemployment = f'{url_leon}api_key={api_key1}'\n",
    "unemployment = requests.get(query_unemployment).json()"
   ]
  },
  {
   "cell_type": "code",
   "execution_count": 81,
   "metadata": {},
   "outputs": [
    {
     "data": {
      "text/plain": [
       "Index(['Date', 'Value'], dtype='object')"
      ]
     },
     "execution_count": 81,
     "metadata": {},
     "output_type": "execute_result"
    }
   ],
   "source": [
    "unemployment_data = pd.DataFrame(unemployment[\"dataset\"][\"data\"])\n",
    "unemployment_data = unemployment_data.rename(columns = {0: \"Date\", 1:\"Value\"})\n",
    "unemployment_clean = unemployment_data.loc[unemployment_data[\"Date\"] >= \"2006-01-31\"]\n",
    "unemployment_clean = unemployment_clean.sort_values(\"Date\", ascending = True)\n",
    "unemployment_clean[\"Date\"] = pd.to_datetime(unemployment_clean[\"Date\"])"
   ]
  },
  {
   "cell_type": "code",
   "execution_count": 80,
   "metadata": {},
   "outputs": [
    {
     "ename": "ValueError",
     "evalue": "x and y must have same first dimension, but have shapes (4,) and (91,)",
     "output_type": "error",
     "traceback": [
      "\u001b[1;31m---------------------------------------------------------------------------\u001b[0m",
      "\u001b[1;31mValueError\u001b[0m                                Traceback (most recent call last)",
      "\u001b[1;32m<ipython-input-80-7b915c31c1b3>\u001b[0m in \u001b[0;36m<module>\u001b[1;34m()\u001b[0m\n\u001b[0;32m      3\u001b[0m \u001b[0mx_axis\u001b[0m \u001b[1;33m=\u001b[0m \u001b[0mnp\u001b[0m\u001b[1;33m.\u001b[0m\u001b[0marange\u001b[0m\u001b[1;33m(\u001b[0m\u001b[1;36m2008\u001b[0m\u001b[1;33m,\u001b[0m \u001b[1;36m2023\u001b[0m\u001b[1;33m,\u001b[0m \u001b[1;36m4\u001b[0m\u001b[1;33m)\u001b[0m\u001b[1;33m\u001b[0m\u001b[0m\n\u001b[0;32m      4\u001b[0m \u001b[0my_axis\u001b[0m \u001b[1;33m=\u001b[0m \u001b[0munemployment_clean\u001b[0m\u001b[1;33m[\u001b[0m\u001b[1;34m\"Value\"\u001b[0m\u001b[1;33m]\u001b[0m\u001b[1;33m\u001b[0m\u001b[0m\n\u001b[1;32m----> 5\u001b[1;33m \u001b[0mplt\u001b[0m\u001b[1;33m.\u001b[0m\u001b[0mplot\u001b[0m\u001b[1;33m(\u001b[0m\u001b[0mx_axis\u001b[0m\u001b[1;33m,\u001b[0m \u001b[0my_axis\u001b[0m\u001b[1;33m)\u001b[0m\u001b[1;33m\u001b[0m\u001b[0m\n\u001b[0m\u001b[0;32m      6\u001b[0m \u001b[0mplt\u001b[0m\u001b[1;33m.\u001b[0m\u001b[0mtitle\u001b[0m\u001b[1;33m(\u001b[0m\u001b[1;34m\"Unemployment Rate Over Next Few Years\"\u001b[0m\u001b[1;33m)\u001b[0m\u001b[1;33m\u001b[0m\u001b[0m\n\u001b[0;32m      7\u001b[0m \u001b[0mplt\u001b[0m\u001b[1;33m.\u001b[0m\u001b[0mxlabel\u001b[0m\u001b[1;33m(\u001b[0m\u001b[1;34m\"Years Over Time\"\u001b[0m\u001b[1;33m)\u001b[0m\u001b[1;33m\u001b[0m\u001b[0m\n",
      "\u001b[1;32m~\\Anaconda3\\envs\\PythonData\\lib\\site-packages\\matplotlib\\pyplot.py\u001b[0m in \u001b[0;36mplot\u001b[1;34m(*args, **kwargs)\u001b[0m\n\u001b[0;32m   3356\u001b[0m                       mplDeprecation)\n\u001b[0;32m   3357\u001b[0m     \u001b[1;32mtry\u001b[0m\u001b[1;33m:\u001b[0m\u001b[1;33m\u001b[0m\u001b[0m\n\u001b[1;32m-> 3358\u001b[1;33m         \u001b[0mret\u001b[0m \u001b[1;33m=\u001b[0m \u001b[0max\u001b[0m\u001b[1;33m.\u001b[0m\u001b[0mplot\u001b[0m\u001b[1;33m(\u001b[0m\u001b[1;33m*\u001b[0m\u001b[0margs\u001b[0m\u001b[1;33m,\u001b[0m \u001b[1;33m**\u001b[0m\u001b[0mkwargs\u001b[0m\u001b[1;33m)\u001b[0m\u001b[1;33m\u001b[0m\u001b[0m\n\u001b[0m\u001b[0;32m   3359\u001b[0m     \u001b[1;32mfinally\u001b[0m\u001b[1;33m:\u001b[0m\u001b[1;33m\u001b[0m\u001b[0m\n\u001b[0;32m   3360\u001b[0m         \u001b[0max\u001b[0m\u001b[1;33m.\u001b[0m\u001b[0m_hold\u001b[0m \u001b[1;33m=\u001b[0m \u001b[0mwashold\u001b[0m\u001b[1;33m\u001b[0m\u001b[0m\n",
      "\u001b[1;32m~\\Anaconda3\\envs\\PythonData\\lib\\site-packages\\matplotlib\\__init__.py\u001b[0m in \u001b[0;36minner\u001b[1;34m(ax, *args, **kwargs)\u001b[0m\n\u001b[0;32m   1853\u001b[0m                         \u001b[1;34m\"the Matplotlib list!)\"\u001b[0m \u001b[1;33m%\u001b[0m \u001b[1;33m(\u001b[0m\u001b[0mlabel_namer\u001b[0m\u001b[1;33m,\u001b[0m \u001b[0mfunc\u001b[0m\u001b[1;33m.\u001b[0m\u001b[0m__name__\u001b[0m\u001b[1;33m)\u001b[0m\u001b[1;33m,\u001b[0m\u001b[1;33m\u001b[0m\u001b[0m\n\u001b[0;32m   1854\u001b[0m                         RuntimeWarning, stacklevel=2)\n\u001b[1;32m-> 1855\u001b[1;33m             \u001b[1;32mreturn\u001b[0m \u001b[0mfunc\u001b[0m\u001b[1;33m(\u001b[0m\u001b[0max\u001b[0m\u001b[1;33m,\u001b[0m \u001b[1;33m*\u001b[0m\u001b[0margs\u001b[0m\u001b[1;33m,\u001b[0m \u001b[1;33m**\u001b[0m\u001b[0mkwargs\u001b[0m\u001b[1;33m)\u001b[0m\u001b[1;33m\u001b[0m\u001b[0m\n\u001b[0m\u001b[0;32m   1856\u001b[0m \u001b[1;33m\u001b[0m\u001b[0m\n\u001b[0;32m   1857\u001b[0m         inner.__doc__ = _add_data_doc(inner.__doc__,\n",
      "\u001b[1;32m~\\Anaconda3\\envs\\PythonData\\lib\\site-packages\\matplotlib\\axes\\_axes.py\u001b[0m in \u001b[0;36mplot\u001b[1;34m(self, *args, **kwargs)\u001b[0m\n\u001b[0;32m   1525\u001b[0m         \u001b[0mkwargs\u001b[0m \u001b[1;33m=\u001b[0m \u001b[0mcbook\u001b[0m\u001b[1;33m.\u001b[0m\u001b[0mnormalize_kwargs\u001b[0m\u001b[1;33m(\u001b[0m\u001b[0mkwargs\u001b[0m\u001b[1;33m,\u001b[0m \u001b[0m_alias_map\u001b[0m\u001b[1;33m)\u001b[0m\u001b[1;33m\u001b[0m\u001b[0m\n\u001b[0;32m   1526\u001b[0m \u001b[1;33m\u001b[0m\u001b[0m\n\u001b[1;32m-> 1527\u001b[1;33m         \u001b[1;32mfor\u001b[0m \u001b[0mline\u001b[0m \u001b[1;32min\u001b[0m \u001b[0mself\u001b[0m\u001b[1;33m.\u001b[0m\u001b[0m_get_lines\u001b[0m\u001b[1;33m(\u001b[0m\u001b[1;33m*\u001b[0m\u001b[0margs\u001b[0m\u001b[1;33m,\u001b[0m \u001b[1;33m**\u001b[0m\u001b[0mkwargs\u001b[0m\u001b[1;33m)\u001b[0m\u001b[1;33m:\u001b[0m\u001b[1;33m\u001b[0m\u001b[0m\n\u001b[0m\u001b[0;32m   1528\u001b[0m             \u001b[0mself\u001b[0m\u001b[1;33m.\u001b[0m\u001b[0madd_line\u001b[0m\u001b[1;33m(\u001b[0m\u001b[0mline\u001b[0m\u001b[1;33m)\u001b[0m\u001b[1;33m\u001b[0m\u001b[0m\n\u001b[0;32m   1529\u001b[0m             \u001b[0mlines\u001b[0m\u001b[1;33m.\u001b[0m\u001b[0mappend\u001b[0m\u001b[1;33m(\u001b[0m\u001b[0mline\u001b[0m\u001b[1;33m)\u001b[0m\u001b[1;33m\u001b[0m\u001b[0m\n",
      "\u001b[1;32m~\\Anaconda3\\envs\\PythonData\\lib\\site-packages\\matplotlib\\axes\\_base.py\u001b[0m in \u001b[0;36m_grab_next_args\u001b[1;34m(self, *args, **kwargs)\u001b[0m\n\u001b[0;32m    404\u001b[0m                 \u001b[0mthis\u001b[0m \u001b[1;33m+=\u001b[0m \u001b[0margs\u001b[0m\u001b[1;33m[\u001b[0m\u001b[1;36m0\u001b[0m\u001b[1;33m]\u001b[0m\u001b[1;33m,\u001b[0m\u001b[1;33m\u001b[0m\u001b[0m\n\u001b[0;32m    405\u001b[0m                 \u001b[0margs\u001b[0m \u001b[1;33m=\u001b[0m \u001b[0margs\u001b[0m\u001b[1;33m[\u001b[0m\u001b[1;36m1\u001b[0m\u001b[1;33m:\u001b[0m\u001b[1;33m]\u001b[0m\u001b[1;33m\u001b[0m\u001b[0m\n\u001b[1;32m--> 406\u001b[1;33m             \u001b[1;32mfor\u001b[0m \u001b[0mseg\u001b[0m \u001b[1;32min\u001b[0m \u001b[0mself\u001b[0m\u001b[1;33m.\u001b[0m\u001b[0m_plot_args\u001b[0m\u001b[1;33m(\u001b[0m\u001b[0mthis\u001b[0m\u001b[1;33m,\u001b[0m \u001b[0mkwargs\u001b[0m\u001b[1;33m)\u001b[0m\u001b[1;33m:\u001b[0m\u001b[1;33m\u001b[0m\u001b[0m\n\u001b[0m\u001b[0;32m    407\u001b[0m                 \u001b[1;32myield\u001b[0m \u001b[0mseg\u001b[0m\u001b[1;33m\u001b[0m\u001b[0m\n\u001b[0;32m    408\u001b[0m \u001b[1;33m\u001b[0m\u001b[0m\n",
      "\u001b[1;32m~\\Anaconda3\\envs\\PythonData\\lib\\site-packages\\matplotlib\\axes\\_base.py\u001b[0m in \u001b[0;36m_plot_args\u001b[1;34m(self, tup, kwargs)\u001b[0m\n\u001b[0;32m    381\u001b[0m             \u001b[0mx\u001b[0m\u001b[1;33m,\u001b[0m \u001b[0my\u001b[0m \u001b[1;33m=\u001b[0m \u001b[0mindex_of\u001b[0m\u001b[1;33m(\u001b[0m\u001b[0mtup\u001b[0m\u001b[1;33m[\u001b[0m\u001b[1;33m-\u001b[0m\u001b[1;36m1\u001b[0m\u001b[1;33m]\u001b[0m\u001b[1;33m)\u001b[0m\u001b[1;33m\u001b[0m\u001b[0m\n\u001b[0;32m    382\u001b[0m \u001b[1;33m\u001b[0m\u001b[0m\n\u001b[1;32m--> 383\u001b[1;33m         \u001b[0mx\u001b[0m\u001b[1;33m,\u001b[0m \u001b[0my\u001b[0m \u001b[1;33m=\u001b[0m \u001b[0mself\u001b[0m\u001b[1;33m.\u001b[0m\u001b[0m_xy_from_xy\u001b[0m\u001b[1;33m(\u001b[0m\u001b[0mx\u001b[0m\u001b[1;33m,\u001b[0m \u001b[0my\u001b[0m\u001b[1;33m)\u001b[0m\u001b[1;33m\u001b[0m\u001b[0m\n\u001b[0m\u001b[0;32m    384\u001b[0m \u001b[1;33m\u001b[0m\u001b[0m\n\u001b[0;32m    385\u001b[0m         \u001b[1;32mif\u001b[0m \u001b[0mself\u001b[0m\u001b[1;33m.\u001b[0m\u001b[0mcommand\u001b[0m \u001b[1;33m==\u001b[0m \u001b[1;34m'plot'\u001b[0m\u001b[1;33m:\u001b[0m\u001b[1;33m\u001b[0m\u001b[0m\n",
      "\u001b[1;32m~\\Anaconda3\\envs\\PythonData\\lib\\site-packages\\matplotlib\\axes\\_base.py\u001b[0m in \u001b[0;36m_xy_from_xy\u001b[1;34m(self, x, y)\u001b[0m\n\u001b[0;32m    240\u001b[0m         \u001b[1;32mif\u001b[0m \u001b[0mx\u001b[0m\u001b[1;33m.\u001b[0m\u001b[0mshape\u001b[0m\u001b[1;33m[\u001b[0m\u001b[1;36m0\u001b[0m\u001b[1;33m]\u001b[0m \u001b[1;33m!=\u001b[0m \u001b[0my\u001b[0m\u001b[1;33m.\u001b[0m\u001b[0mshape\u001b[0m\u001b[1;33m[\u001b[0m\u001b[1;36m0\u001b[0m\u001b[1;33m]\u001b[0m\u001b[1;33m:\u001b[0m\u001b[1;33m\u001b[0m\u001b[0m\n\u001b[0;32m    241\u001b[0m             raise ValueError(\"x and y must have same first dimension, but \"\n\u001b[1;32m--> 242\u001b[1;33m                              \"have shapes {} and {}\".format(x.shape, y.shape))\n\u001b[0m\u001b[0;32m    243\u001b[0m         \u001b[1;32mif\u001b[0m \u001b[0mx\u001b[0m\u001b[1;33m.\u001b[0m\u001b[0mndim\u001b[0m \u001b[1;33m>\u001b[0m \u001b[1;36m2\u001b[0m \u001b[1;32mor\u001b[0m \u001b[0my\u001b[0m\u001b[1;33m.\u001b[0m\u001b[0mndim\u001b[0m \u001b[1;33m>\u001b[0m \u001b[1;36m2\u001b[0m\u001b[1;33m:\u001b[0m\u001b[1;33m\u001b[0m\u001b[0m\n\u001b[0;32m    244\u001b[0m             raise ValueError(\"x and y can be no greater than 2-D, but have \"\n",
      "\u001b[1;31mValueError\u001b[0m: x and y must have same first dimension, but have shapes (4,) and (91,)"
     ]
    },
    {
     "data": {
      "image/png": "[encoded data removed]",
      "text/plain": [
       "<Figure size 432x288 with 1 Axes>"
      ]
     },
     "metadata": {},
     "output_type": "display_data"
    }
   ],
   "source": [
    "unemployment_clean.plot(kind=\"line\", x=\"Date\", y=\"Value\")\n",
    "plt.title(\"Unemployment Rate Over Next Few Years\")\n",
    "plt.xlabel(\"Years Over Time\")\n",
    "plt.ylabel(\"Unemployment Rates\")\n",
    "plt.grid()\n",
    "plt.show()"
   ]
  },
  {
   "cell_type": "code",
   "execution_count": null,
   "metadata": {},
   "outputs": [],
   "source": [
    "url_bonds = \"https://www.quandl.com/api/v3/datasets/USTREASURY/REALYIELD.json?\"\n",
    "query_bonds = f'{url_bonds}api_key={api_key1}'\n",
    "yield_real = requests.get(query_bonds).json()"
   ]
  },
  {
   "cell_type": "code",
   "execution_count": null,
   "metadata": {},
   "outputs": [],
   "source": [
    "yield_curve = pd.DataFrame(yield_real[\"dataset\"][\"data\"])\n",
    "yield_curve = yield_curve.rename(columns = {0: \"Date\", 1:\"5 Year\", 2:\"7 Year\",\n",
    "                                                 3: \"10 Year\", 4: \"20 Year\", 5:\"30 Year\"})\n",
    "yield_curve[\"Date\"] = pd.to_datetime(yield_curve[\"Date\"])"
   ]
  },
  {
   "cell_type": "code",
   "execution_count": null,
   "metadata": {},
   "outputs": [],
   "source": [
    "yield_clean = yield_curve.fillna(0)\n",
    "yield_clean.loc[yield_clean[\"Date\"] >= \"2010-02-22\"].head()"
   ]
  },
  {
   "cell_type": "code",
   "execution_count": null,
   "metadata": {},
   "outputs": [],
   "source": [
    "yield_graph = yield_clean.plot(kind=\"line\", x=\"Date\", y=\"5 Year\")\n",
    "yield_clean.plot(kind=\"line\", x=\"Date\", y=\"7 Year\", ax=yield_graph)\n",
    "yield_clean.plot(kind=\"line\", x=\"Date\", y=\"10 Year\", ax=yield_graph)\n",
    "yield_clean.plot(kind=\"line\", x=\"Date\", y=\"20 Year\", ax=yield_graph)\n",
    "yield_clean.plot(kind=\"line\", x=\"Date\", y=\"30 Year\", ax=yield_graph)\n",
    "plt.title(\"Yearly Tracking of Treasury Bonds\")\n",
    "plt.xticks(rotation = 30)\n",
    "plt.xlabel(\"Years Over Time\")\n",
    "plt.ylabel(\"Bonds Value\")\n",
    "plt.grid()\n",
    "plt.show()"
   ]
  },
  {
   "cell_type": "code",
   "execution_count": null,
   "metadata": {},
   "outputs": [],
   "source": [
    "url_inflation = \"https://www.quandl.com/api/v3/datasets/YALE/SPCOMP.json?\"\n",
    "query_inflation = f'{url_inflation}api_key={api_key1}'\n",
    "testing = requests.get(query_inflation).json()"
   ]
  },
  {
   "cell_type": "code",
   "execution_count": null,
   "metadata": {},
   "outputs": [],
   "source": [
    "stock_data = pd.DataFrame(testing[\"dataset\"][\"data\"])\n",
    "stock_clean = stock_data.rename(columns = {0: \"Monthly Tracking\", 1:\"S&P Composite\", 2: \"Dividend\", 3:\"Earnings\", 4:\"CPI\",\n",
    "                                                 5: \"Long Interest Rate\", 6:\"Real Price\", 7:\"Real Dividend\", 8:\"Real Earning\",\n",
    "                                                 9: \"Cyclically Adjusted PE Ratio\"})"
   ]
  },
  {
   "cell_type": "code",
   "execution_count": null,
   "metadata": {},
   "outputs": [],
   "source": [
    "# Getting information from the table\n",
    "stock_clean = stock_clean.fillna(0)\n",
    "stock_present = stock_clean.loc[stock_clean[\"Monthly Tracking\"] >=\"2010-01-31\"]\n",
    "stock_present = stock_present.sort_values(\"Monthly Tracking\", ascending=True)\n",
    "stock_present[\"Monthly Tracking\"] = pd.to_datetime(stock_present[\"Monthly Tracking\"])"
   ]
  },
  {
   "cell_type": "code",
   "execution_count": null,
   "metadata": {},
   "outputs": [],
   "source": [
    "stock_present.plot(kind=\"line\", x=\"Monthly Tracking\", y=\"CPI\")\n",
    "plt.title(\"Yearly Tracking of CPI\")\n",
    "plt.xlabel(\"Years Over Time\")\n",
    "plt.ylabel(\"CPI Rates\")\n",
    "plt.grid()\n",
    "plt.show()"
   ]
  },
  {
   "cell_type": "code",
   "execution_count": null,
   "metadata": {},
   "outputs": [],
   "source": [
    "stock_present.plot(kind=\"line\", x=\"Monthly Tracking\", y=\"Cyclically Adjusted PE Ratio\")\n",
    "plt.title(\"Yearly Tracking of PE Ratio\")\n",
    "plt.xticks(rotation = 90)\n",
    "plt.xlabel(\"Years Over Time\")\n",
    "plt.xticks(rotation=30)\n",
    "plt.ylabel(\"PE Ratio\")\n",
    "plt.grid()\n",
    "plt.show()"
   ]
  },
  {
   "cell_type": "code",
   "execution_count": null,
   "metadata": {},
   "outputs": [],
   "source": [
    "url_rates = \"https://www.quandl.com/api/v3/datasets/FRED/EFFR.json?\"\n",
    "query_rates = f'{url_rates}api_key={api_key1}'\n",
    "fed = requests.get(query_rates).json()"
   ]
  },
  {
   "cell_type": "code",
   "execution_count": null,
   "metadata": {},
   "outputs": [],
   "source": [
    "fed_data = pd.DataFrame(fed[\"dataset\"][\"data\"])\n",
    "fed_data = fed_data.rename(columns = {0: \"Date\", 1:\"Value\"})\n",
    "fed_data[\"Date\"] = pd.to_datetime(fed_data[\"Date\"])"
   ]
  },
  {
   "cell_type": "code",
   "execution_count": null,
   "metadata": {},
   "outputs": [],
   "source": [
    "fed_data.plot(kind=\"line\", x=\"Date\", y=\"Value\")\n",
    "plt.title(\"Rating of Cost Index Value\")\n",
    "plt.xlabel(\"Years Over Time\")\n",
    "plt.ylabel(\"Cost Index Value\")\n",
    "plt.grid()\n",
    "plt.show()"
   ]
  },
  {
   "cell_type": "code",
   "execution_count": null,
   "metadata": {},
   "outputs": [],
   "source": [
    "url_CPI = \"https://www.quandl.com/api/v3/datasets/YALE/RBCI.json?\"\n",
    "query_CPI = f'{url_CPI}api_key={api_key1}'\n",
    "CPI = requests.get(query_CPI).json()"
   ]
  },
  {
   "cell_type": "code",
   "execution_count": null,
   "metadata": {},
   "outputs": [],
   "source": [
    "CPI_data = pd.DataFrame(CPI[\"dataset\"][\"data\"])\n",
    "CPI_data = CPI_data.rename(columns = {0: \"Date\", 1:\"Cost Index\", 2: \"U.S. Population (Millions)\", 3:\"Long Rate\"})\n",
    "CPI_clean[\"Date\"] = pd.to_datetime(CPI_clean[\"Date\"])"
   ]
  },
  {
   "cell_type": "code",
   "execution_count": null,
   "metadata": {},
   "outputs": [],
   "source": [
    "CPI_clean = CPI_data.fillna(0)\n",
    "CPI_clean = CPI_clean.loc[(CPI_clean[\"Date\"] < \"2016-12-31\") & (CPI_clean[\"Date\"] >= \"2000-12-31\"), :]\n",
    "CPI_clean = CPI_clean.sort_values(\"Date\", ascending=True)"
   ]
  },
  {
   "cell_type": "code",
   "execution_count": null,
   "metadata": {},
   "outputs": [],
   "source": [
    "plt.plot(CPI_clean[\"Date\"], CPI_clean[\"Cost Index\"])\n",
    "plt.title(\"Increasing of Cost Index Over the Years\")\n",
    "plt.xlabel(\"Years OVer Time\")\n",
    "plt.xticks(rotation=30)\n",
    "plt.ylabel(\"Cost Index Value\")\n",
    "plt.grid()\n",
    "plt.show()"
   ]
  },
  {
   "cell_type": "code",
   "execution_count": null,
   "metadata": {},
   "outputs": [],
   "source": []
  }
 ],
 "metadata": {
  "kernelspec": {
   "display_name": "Python 3",
   "language": "python",
   "name": "python3"
  },
  "language_info": {
   "codemirror_mode": {
    "name": "ipython",
    "version": 3
   },
   "file_extension": ".py",
   "mimetype": "text/x-python",
   "name": "python",
   "nbconvert_exporter": "python",
   "pygments_lexer": "ipython3",
   "version": "3.7.0"
  }
 },
 "nbformat": 4,
 "nbformat_minor": 2
}
