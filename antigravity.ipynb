{
 "cells": [
  {
   "cell_type": "code",
   "execution_count": 4,
   "metadata": {},
   "outputs": [
    {
     "ename": "ModuleNotFoundError",
     "evalue": "No module named 'quandl'",
     "output_type": "error",
     "traceback": [
      "\u001b[1;31m---------------------------------------------------------------------------\u001b[0m",
      "\u001b[1;31mModuleNotFoundError\u001b[0m                       Traceback (most recent call last)",
      "\u001b[1;32m<ipython-input-4-43d09aa86155>\u001b[0m in \u001b[0;36m<module>\u001b[1;34m()\u001b[0m\n\u001b[0;32m      5\u001b[0m \u001b[1;32mimport\u001b[0m \u001b[0mrequests\u001b[0m\u001b[1;33m\u001b[0m\u001b[0m\n\u001b[0;32m      6\u001b[0m \u001b[1;32mimport\u001b[0m \u001b[0mjson\u001b[0m\u001b[1;33m\u001b[0m\u001b[0m\n\u001b[1;32m----> 7\u001b[1;33m \u001b[1;32mimport\u001b[0m \u001b[0mquandl\u001b[0m\u001b[1;33m\u001b[0m\u001b[0m\n\u001b[0m\u001b[0;32m      8\u001b[0m \u001b[1;32mimport\u001b[0m \u001b[0mos\u001b[0m\u001b[1;33m\u001b[0m\u001b[0m\n\u001b[0;32m      9\u001b[0m \u001b[1;32mimport\u001b[0m \u001b[0mcsv\u001b[0m\u001b[1;33m\u001b[0m\u001b[0m\n",
      "\u001b[1;31mModuleNotFoundError\u001b[0m: No module named 'quandl'"
     ]
    }
   ],
   "source": [
    "# Dependencies\n",
    "import numpy as np\n",
    "import pandas as pd\n",
    "import matplotlib.pyplot as plt\n",
    "import requests\n",
    "import json\n",
    "import quandl\n",
    "import os\n",
    "import csv"
   ]
  },
  {
   "cell_type": "code",
   "execution_count": null,
   "metadata": {},
   "outputs": [],
   "source": [
    "# Quandl API Keys\n",
    "#from config import api_key\n",
    "api_key = \"96042e6658cd41ef3713d6df5e943609\""
   ]
  },
  {
   "cell_type": "code",
   "execution_count": null,
   "metadata": {},
   "outputs": [],
   "source": [
    "#Python API for FRED (Federal Reserve Economic Data) and ALFRED (Archival FRED)\n",
    "from fredapi import Fred"
   ]
  },
  {
   "cell_type": "code",
   "execution_count": null,
   "metadata": {},
   "outputs": [],
   "source": [
    "#Delinquency Rate on Single-Family Residential Mortgages\n",
    "Delinquencydata = quandl.get(\"FRED/DRSFRMACBN\", authtoken=\"y7AX1dy3giQQhANZj-7n\", start_date=\"2000-01-01\")"
   ]
  },
  {
   "cell_type": "code",
   "execution_count": null,
   "metadata": {},
   "outputs": [],
   "source": [
    "Delinquencydata.head()"
   ]
  },
  {
   "cell_type": "code",
   "execution_count": null,
   "metadata": {},
   "outputs": [],
   "source": [
    "Delinquencydata = Delinquencydata.reset_index()\n",
    "x_vals = Delinquencydata[\"Date\"]\n",
    "y_vals = Delinquencydata[\"Value\"]\n",
    "plt.plot(x_vals,\n",
    "        y_vals, marker=\"o\", linewidth=0.5,\n",
    "        alpha=0.8)\n",
    "# Add labels to the x and y axes and a title\n",
    "plt.title(\"Delinquency Rate on Single-Family Residential Mortgages\")\n",
    "plt.xlabel(\"Years\")\n",
    "plt.ylabel(\"Percent\")\n",
    "plt.show()"
   ]
  },
  {
   "cell_type": "code",
   "execution_count": null,
   "metadata": {},
   "outputs": [],
   "source": [
    "# US Corporate Bonds Total Return Index\n",
    "USCorpBondsTRIndex = quandl.get(\"ML/TRI\", authtoken=\"y7AX1dy3giQQhANZj-7n\", start_date=\"2000-01-01\")"
   ]
  },
  {
   "cell_type": "code",
   "execution_count": null,
   "metadata": {},
   "outputs": [],
   "source": [
    "USCorpBondsTRIndex.head()"
   ]
  },
  {
   "cell_type": "code",
   "execution_count": null,
   "metadata": {},
   "outputs": [],
   "source": [
    "USCorpBondsTRIndex = USCorpBondsTRIndex.reset_index()\n",
    "USCorpBondsTRIndex.head()\n",
    "x_vals = USCorpBondsTRIndex[\"DATE\"]\n",
    "y_vals = USCorpBondsTRIndex[\"BAMLCC0A0CMTRIV\"]\n",
    "plt.plot(x_vals,\n",
    "        y_vals, marker=\"o\", linewidth=0.5,\n",
    "        alpha=0.8)\n",
    "# Add labels to the x and y axes and a title\n",
    "plt.title(\"US Corporate Bonds Total Return Index\")\n",
    "plt.xlabel(\"Years\")\n",
    "plt.ylabel(\"Bond Yield\")\n",
    "plt.show()"
   ]
  },
  {
   "cell_type": "code",
   "execution_count": null,
   "metadata": {},
   "outputs": [],
   "source": [
    "# Household Debt to GDP for United States\n",
    "from fredapi import Fred\n",
    "fred = Fred(api_key='96042e6658cd41ef3713d6df5e943609')\n",
    "data = fred.get_series('HDTGPDUSQ163N', '1/1/2000', '1/10/2018')\n",
    "data_df = pd.DataFrame(data)\n",
    "data_df = data_df.reset_index()\n",
    "data_df.columns = ['Year','Ratio']\n",
    "data_df.head()\n"
   ]
  },
  {
   "cell_type": "code",
   "execution_count": null,
   "metadata": {},
   "outputs": [],
   "source": [
    "# Plot U.S. Corporations: Short-term Debt (API KEY QFR301376USNO)\n",
    "x_vals = data_df[\"Year\"]\n",
    "y_vals = data_df[\"Ratio\"]\n",
    "plt.plot(x_vals,\n",
    "        y_vals, marker=\"o\", linewidth=0.5,\n",
    "        alpha=0.8)\n",
    "# Add labels to the x and y axes and a title\n",
    "plt.title(\"Household Debt to GDP for United States\")\n",
    "plt.xlabel(\"Years\")\n",
    "plt.ylabel(\"Household Debt to GDP Ratio\")\n",
    "plt.show()"
   ]
  },
  {
   "cell_type": "code",
   "execution_count": null,
   "metadata": {},
   "outputs": [],
   "source": [
    "# Nonfinancial corporate business; debt securities; liability, Level\n",
    "# FRED API_KEY NCBDBIQ027S\n",
    "from fredapi import Fred\n",
    "fred = Fred(api_key='96042e6658cd41ef3713d6df5e943609')\n",
    "data = fred.get_series('NCBDBIQ027S', '1/1/2000', '1/10/2018')\n",
    "data_df = pd.DataFrame(data)\n",
    "data_df = data_df.reset_index()\n",
    "data_df.columns = ['Year','Millions of Dollars']\n",
    "data_df.head()\n"
   ]
  },
  {
   "cell_type": "code",
   "execution_count": null,
   "metadata": {},
   "outputs": [],
   "source": [
    "# Plot Nonfinancial corporate business; debt securities; liability, Level\n",
    "# FRED API_KEY NCBDBIQ027S\n",
    "x_vals = data_df[\"Year\"]\n",
    "y_vals = data_df[\"Millions of Dollars\"]\n",
    "plt.plot(x_vals,\n",
    "        y_vals, marker=\"o\", linewidth=0.5,\n",
    "        alpha=0.8)\n",
    "# Add labels to the x and y axes and a title\n",
    "plt.title(\"Corporate Business Debt in United States\")\n",
    "plt.xlabel(\"Years\")\n",
    "plt.ylabel(\"Outstanding Corporate Debt In Millions of Dollars\")\n",
    "plt.show()"
   ]
  },
  {
   "cell_type": "code",
   "execution_count": null,
   "metadata": {},
   "outputs": [],
   "source": [
    "# Federal Debt: Total Public Debt as Percent of Gross Domestic Product\n",
    "# FRED API_KEY GFDEGDQ188S\n",
    "from fredapi import Fred\n",
    "fred = Fred(api_key='96042e6658cd41ef3713d6df5e943609')\n",
    "data = fred.get_series('GFDEGDQ188S', '1/1/2000', '1/10/2018')\n",
    "data_df = pd.DataFrame(data)\n",
    "data_df = data_df.reset_index()\n",
    "data_df.columns = ['Year','Percent of GDP']\n",
    "data_df.head()\n"
   ]
  },
  {
   "cell_type": "code",
   "execution_count": null,
   "metadata": {},
   "outputs": [],
   "source": [
    "# Real Gross Domestic Product \n",
    "# FRED API_KEY GDP\n",
    "from fredapi import Fred\n",
    "fred = Fred(api_key='96042e6658cd41ef3713d6df5e943609')\n",
    "data = fred.get_series('GDP', '1/1/2000', '1/10/2018')\n",
    "data_df = pd.DataFrame(data)\n",
    "data_df = data_df.reset_index()\n",
    "data_df.columns = ['Year','Billions of chained 2012 Dollars']\n",
    "data_df.head()"
   ]
  },
  {
   "cell_type": "code",
   "execution_count": null,
   "metadata": {},
   "outputs": [],
   "source": [
    "# S&P/Case-Shiller U.S. National Home Price Index \n",
    "# FRED API_KEY CSUSHPINSA\n",
    "from fredapi import Fred\n",
    "fred = Fred(api_key='96042e6658cd41ef3713d6df5e943609')\n",
    "data = fred.get_series('CSUSHPINSA', '1/1/2000', '1/10/2018')\n",
    "data_df = pd.DataFrame(data)\n",
    "data_df = data_df.reset_index()\n",
    "data_df.columns = ['Year','Case Index']\n",
    "data_df.head()"
   ]
  },
  {
   "cell_type": "code",
   "execution_count": null,
   "metadata": {},
   "outputs": [],
   "source": [
    "# plot \n",
    "x_vals = data_df[\"Year\"]\n",
    "y_vals = data_df[\"Case Index\"]\n",
    "plt.plot(x_vals,\n",
    "        y_vals, marker=\"o\", linewidth=0.5,\n",
    "        alpha=0.8)\n",
    "# Add labels to the x and y axes and a title\n",
    "plt.title(\"S&P/Case-Shiller U.S. National Home Price Index\")\n",
    "plt.xlabel(\"Years\")\n",
    "plt.ylabel(\"Index\")\n",
    "plt.show()"
   ]
  },
  {
   "cell_type": "code",
   "execution_count": null,
   "metadata": {},
   "outputs": [],
   "source": [
    "#Load CSV\n",
    "file_to_load = \"resource/TotalHousing.csv\"\n",
    "housing_data = pd.read_csv(file_to_load)\n",
    "\n",
    "#Remove extraneous rows\n",
    "update_housing_df=housing_data.drop(housing_data.index[19:52])\n",
    "\n",
    "#Remove repeated rows\n",
    "new_housing=update_housing_df.drop(update_housing_df.index[4])\n",
    "\n",
    "#Check data types\n",
    "new_housing.dtypes\n",
    "\n",
    "#Plot figure\n",
    "plt.figure(figsize=(10,8))\n",
    "x_axis=new_housing[\"Year\"]\n",
    "y_axis=new_housing[\"Estimate\"]\n",
    "plt.plot(x_axis,y_axis,marker=\"o\")\n",
    "plt.xlim(2000,2018)\n",
    "plt.ylim(50000,62000)\n",
    "plt.title(\"Household Median Income 2000-2018\")\n",
    "plt.xlabel(\"Year\")\n",
    "plt.ylabel(\"Median Income(USD)\")\n",
    "plt.show()\n",
    "\n",
    "#Save Figure\n",
    "    #plt.savefig(\"House Median Income.png\")\n",
    "\n",
    "#Percent Change\n"
   ]
  },
  {
   "cell_type": "code",
   "execution_count": null,
   "metadata": {},
   "outputs": [],
   "source": [
    "#reading csv's for student loans data\n",
    "file_1 = \"resource/loanportfolio.csv\"\n",
    "outstanding_loans = pd.read_csv(file_1)\n",
    "\n",
    "file_2 = \"resource/LoansData.csv\"\n",
    "loans_rate = pd.read_csv(file_2)\n",
    "\n",
    "file_3 = \"resource/Studentloans_delinquency.csv\"\n",
    "loansdelinquency_rate = pd.read_csv(file_3)\n"
   ]
  },
  {
   "cell_type": "code",
   "execution_count": null,
   "metadata": {},
   "outputs": [],
   "source": [
    "#Plotting total student loans over years\n",
    "plt.figure(figsize = (8,6))\n",
    "plt.plot(loans_rate[\"Year\"], loans_rate[\"2018 Loans Billions\"], marker = \"o\")\n",
    "plt.title(\"Year vs. Total Student Loans in 2018 dollars(Billions)\\n Data Source : College Board\")\n",
    "plt.xlabel(\"Year\")\n",
    "plt.xticks(rotation=70)\n",
    "plt.ylabel(\"Total Student Loans (Billions)\")\n",
    "plt.grid()\n",
    "plt.savefig(\"resource/YearvsTotalStudentLoans.png\", bbox_inches=\"tight\")"
   ]
  },
  {
   "cell_type": "code",
   "execution_count": null,
   "metadata": {},
   "outputs": [],
   "source": [
    "#plotting total recipients over years\n",
    "plt.figure(figsize = (8,6))\n",
    "x_axis = outstanding_loans[\"Year\"]\n",
    "y_axis = outstanding_loans[\"Total unduplicated recipients\"]\n",
    "plt.plot(x_axis,y_axis)\n",
    "plt.title(\"Year vs. Total Recipients (Millions)\")\n",
    "plt.xlabel(\"Year\")\n",
    "plt.xticks(rotation=70)\n",
    "plt.xticks(np.arange(min(x_axis), max(x_axis)+1, 1.0))\n",
    "plt.ylabel(\"Total Outstanding Student Loans (Millions)\")\n",
    "plt.grid()\n",
    "plt.text(2019,42, \"Data Source: NSLDS \\n 2018 4th quarter data unavailable\")\n",
    "plt.savefig(\"resource/YearvsTotalRecipients.png\", bbox_inches=\"tight\")"
   ]
  },
  {
   "cell_type": "code",
   "execution_count": null,
   "metadata": {},
   "outputs": [],
   "source": [
    "#plotting total outstanding loans over years\n",
    "plt.figure(figsize = (8,6))\n",
    "x_axis = outstanding_loans[\"Year\"]\n",
    "y_axis = outstanding_loans[\"Total Dollars Outstanding\"]\n",
    "plt.plot(x_axis,y_axis)\n",
    "plt.title(\"Year vs. Total Outstanding Student Loans (Billions)\")\n",
    "plt.xlabel(\"Year\")\n",
    "plt.xticks(rotation=70)\n",
    "plt.xticks(np.arange(min(x_axis), max(x_axis)+1, 1.0))\n",
    "plt.ylabel(\"Total Outstanding Student Loans (Billions)\")\n",
    "plt.grid()\n",
    "plt.text(2019,1300, \"Data Source: \\n National Student Loan Data System(NSLDS)\")\n",
    "plt.savefig(\"resource/YearvsTotalStudentLoansOutstanding.png\", bbox_inches=\"tight\")"
   ]
  },
  {
   "cell_type": "code",
   "execution_count": null,
   "metadata": {},
   "outputs": [],
   "source": [
    "#plotting student loans delinquency over years\n",
    "x_axis = loansdelinquency_rate[\"Year\"]\n",
    "y_axis = loansdelinquency_rate[\"Student Loan Delinquency\"]\n",
    "plt.figure(figsize = (8,6))\n",
    "plt.plot(x_axis,y_axis)\n",
    "plt.title(\"Year vs. Student Loan Delinquency(Billions$)\")\n",
    "plt.xlabel(\"Year\")\n",
    "plt.xticks(rotation=70)\n",
    "plt.xticks(np.arange(min(x_axis), max(x_axis)+1, 1.0))\n",
    "plt.ylabel(\"Student loan Delinquency(Billions$)\")\n",
    "plt.grid()\n",
    "plt.text(2019,32, \"Data Source: New York Fed Consumer Credit Panel \\n 2018 3rd and 4th quarter data unavailable\")\n",
    "plt.savefig(\"resource/YearvsStudentLoanDelinquincy.png\", bbox_inches=\"tight\")"
   ]
  },
  {
   "cell_type": "code",
   "execution_count": null,
   "metadata": {},
   "outputs": [],
   "source": [
    "#plotting student loans delinquency as percent over years\n",
    "x_axis = loansdelinquency_rate[\"Year\"]\n",
    "y_axis = loansdelinquency_rate[\"Percent Total Debt \"]\n",
    "plt.figure(figsize = (8,6))\n",
    "plt.plot(x_axis, y_axis)\n",
    "plt.title(\"Year vs. Student Loan Delinquency(% Total Debt)\")\n",
    "plt.xlabel(\"Year\")\n",
    "plt.xticks(rotation=70)\n",
    "plt.xticks(np.arange(min(x_axis), max(x_axis)+1, 1.0))\n",
    "plt.ylabel(\"Student loan Delinquency(% Total Debt)\")\n",
    "plt.grid()\n",
    "plt.text(2019,11, \"Data Source: New York Fed Consumer Credit Panel \\n 2018 3rd and 4th quarter data unavailable\")\n",
    "plt.savefig(\"resource/YearvsPercentDelinquency.png\", bbox_inches=\"tight\")"
   ]
  },
  {
   "cell_type": "code",
   "execution_count": 13,
   "metadata": {},
   "outputs": [],
   "source": [
    "url_leon = \"https://www.quandl.com/api/v3/datasets/FRED/NROUST.json?\"\n",
    "api_key1 = \"QssxeUFzbDLsGy2VRwxV\"\n",
    "query_unemployment = f'{url_leon}api_key={api_key1}'\n",
    "unemployment = requests.get(query_unemployment).json()"
   ]
  },
  {
   "cell_type": "code",
   "execution_count": 14,
   "metadata": {},
   "outputs": [],
   "source": [
    "unemployment_data = pd.DataFrame(unemployment[\"dataset\"][\"data\"])\n",
    "unemployment_data = unemployment_data.rename(columns = {0: \"Date\", 1:\"Value\"})\n",
    "unemployment_clean = unemployment_data.loc[unemployment_data[\"Date\"] >= \"2006-01-31\"]\n",
    "unemployment_clean = unemployment_clean.sort_values(\"Date\", ascending = True)"
   ]
  },
  {
   "cell_type": "code",
   "execution_count": 15,
   "metadata": {},
   "outputs": [
    {
     "data": {
      "image/png": "[encoded data removed]",
      "text/plain": [
       "<Figure size 432x288 with 1 Axes>"
      ]
     },
     "metadata": {},
     "output_type": "display_data"
    }
   ],
   "source": [
    "unemployment_clean.plot(kind=\"line\", x=\"Date\", y=\"Value\")\n",
    "plt.title(\"Unemployment Rate Over Next Few Years\")\n",
    "plt.xlabel(\"Years Over Time\")\n",
    "plt.ylabel(\"Unemployment Rates\")\n",
    "plt.grid()\n",
    "plt.show()"
   ]
  },
  {
   "cell_type": "code",
   "execution_count": 6,
   "metadata": {},
   "outputs": [],
   "source": [
    "url_bonds = \"https://www.quandl.com/api/v3/datasets/USTREASURY/REALYIELD.json?\"\n",
    "query_bonds = f'{url_bonds}api_key={api_key1}'\n",
    "yield_real = requests.get(query_bonds).json()"
   ]
  },
  {
   "cell_type": "code",
   "execution_count": 7,
   "metadata": {},
   "outputs": [],
   "source": [
    "yield_curve = pd.DataFrame(yield_real[\"dataset\"][\"data\"])\n",
    "yield_curve = yield_curve.rename(columns = {0: \"Date\", 1:\"5 Year\", 2:\"7 Year\",\n",
    "                                                 3: \"10 Year\", 4: \"20 Year\", 5:\"30 Year\"})"
   ]
  },
  {
   "cell_type": "code",
   "execution_count": 8,
   "metadata": {},
   "outputs": [
    {
     "data": {
      "text/html": [
       "<div>\n",
       "<style scoped>\n",
       "    .dataframe tbody tr th:only-of-type {\n",
       "        vertical-align: middle;\n",
       "    }\n",
       "\n",
       "    .dataframe tbody tr th {\n",
       "        vertical-align: top;\n",
       "    }\n",
       "\n",
       "    .dataframe thead th {\n",
       "        text-align: right;\n",
       "    }\n",
       "</style>\n",
       "<table border=\"1\" class=\"dataframe\">\n",
       "  <thead>\n",
       "    <tr style=\"text-align: right;\">\n",
       "      <th></th>\n",
       "      <th>Date</th>\n",
       "      <th>5 Year</th>\n",
       "      <th>7 Year</th>\n",
       "      <th>10 Year</th>\n",
       "      <th>20 Year</th>\n",
       "      <th>30 Year</th>\n",
       "    </tr>\n",
       "  </thead>\n",
       "  <tbody>\n",
       "    <tr>\n",
       "      <th>0</th>\n",
       "      <td>2018-10-05</td>\n",
       "      <td>1.02</td>\n",
       "      <td>1.04</td>\n",
       "      <td>1.07</td>\n",
       "      <td>1.15</td>\n",
       "      <td>1.23</td>\n",
       "    </tr>\n",
       "    <tr>\n",
       "      <th>1</th>\n",
       "      <td>2018-10-04</td>\n",
       "      <td>0.99</td>\n",
       "      <td>1.01</td>\n",
       "      <td>1.03</td>\n",
       "      <td>1.11</td>\n",
       "      <td>1.18</td>\n",
       "    </tr>\n",
       "    <tr>\n",
       "      <th>2</th>\n",
       "      <td>2018-10-03</td>\n",
       "      <td>0.95</td>\n",
       "      <td>0.96</td>\n",
       "      <td>0.99</td>\n",
       "      <td>1.06</td>\n",
       "      <td>1.13</td>\n",
       "    </tr>\n",
       "    <tr>\n",
       "      <th>3</th>\n",
       "      <td>2018-10-02</td>\n",
       "      <td>0.91</td>\n",
       "      <td>0.92</td>\n",
       "      <td>0.93</td>\n",
       "      <td>1.00</td>\n",
       "      <td>1.07</td>\n",
       "    </tr>\n",
       "    <tr>\n",
       "      <th>4</th>\n",
       "      <td>2018-10-01</td>\n",
       "      <td>0.92</td>\n",
       "      <td>0.93</td>\n",
       "      <td>0.95</td>\n",
       "      <td>1.03</td>\n",
       "      <td>1.09</td>\n",
       "    </tr>\n",
       "  </tbody>\n",
       "</table>\n",
       "</div>"
      ],
      "text/plain": [
       "         Date  5 Year  7 Year  10 Year  20 Year  30 Year\n",
       "0  2018-10-05    1.02    1.04     1.07     1.15     1.23\n",
       "1  2018-10-04    0.99    1.01     1.03     1.11     1.18\n",
       "2  2018-10-03    0.95    0.96     0.99     1.06     1.13\n",
       "3  2018-10-02    0.91    0.92     0.93     1.00     1.07\n",
       "4  2018-10-01    0.92    0.93     0.95     1.03     1.09"
      ]
     },
     "execution_count": 8,
     "metadata": {},
     "output_type": "execute_result"
    }
   ],
   "source": [
    "yield_clean = yield_curve.fillna(0)\n",
    "yield_clean.loc[yield_clean[\"Date\"] >= \"2010-02-22\"].head()"
   ]
  },
  {
   "cell_type": "code",
   "execution_count": 11,
   "metadata": {},
   "outputs": [
    {
     "data": {
      "image/png": "[encoded data removed]",
      "text/plain": [
       "<Figure size 432x288 with 1 Axes>"
      ]
     },
     "metadata": {},
     "output_type": "display_data"
    }
   ],
   "source": [
    "yield_graph = yield_clean.plot(kind=\"line\", x=\"Date\", y=\"5 Year\")\n",
    "# plt.plot(yield_clean[\"Date\"], yield_clean[\"5 Year\"])\n",
    "yield_clean.plot(kind=\"line\", x=\"Date\", y=\"7 Year\", ax=yield_graph)\n",
    "yield_clean.plot(kind=\"line\", x=\"Date\", y=\"10 Year\", ax=yield_graph)\n",
    "yield_clean.plot(kind=\"line\", x=\"Date\", y=\"20 Year\", ax=yield_graph)\n",
    "yield_clean.plot(kind=\"line\", x=\"Date\", y=\"30 Year\", ax=yield_graph)\n",
    "plt.title(\"Yearly Tracking of Treasury Bonds\")\n",
    "plt.xticks(rotation = 90)\n",
    "plt.xlabel(\"Years Over Time\")\n",
    "plt.ylabel(\"Bonds Value\")\n",
    "plt.grid()\n",
    "plt.show()"
   ]
  },
  {
   "cell_type": "code",
   "execution_count": 19,
   "metadata": {},
   "outputs": [],
   "source": [
    "url_inflation = \"https://www.quandl.com/api/v3/datasets/YALE/SPCOMP.json?\"\n",
    "query_inflation = f'{url_inflation}api_key={api_key1}'\n",
    "testing = requests.get(query_inflation).json()"
   ]
  },
  {
   "cell_type": "code",
   "execution_count": 20,
   "metadata": {},
   "outputs": [],
   "source": [
    "stock_data = pd.DataFrame(testing[\"dataset\"][\"data\"])\n",
    "stock_clean = stock_data.rename(columns = {0: \"Monthly Tracking\", 1:\"S&P Composite\", 2: \"Dividend\", 3:\"Earnings\", 4:\"CPI\",\n",
    "                                                 5: \"Long Interest Rate\", 6:\"Real Price\", 7:\"Real Dividend\", 8:\"Real Earning\",\n",
    "                                                 9: \"Cyclically Adjusted PE Ratio\"})"
   ]
  },
  {
   "cell_type": "code",
   "execution_count": 21,
   "metadata": {},
   "outputs": [
    {
     "data": {
      "text/html": [
       "<div>\n",
       "<style scoped>\n",
       "    .dataframe tbody tr th:only-of-type {\n",
       "        vertical-align: middle;\n",
       "    }\n",
       "\n",
       "    .dataframe tbody tr th {\n",
       "        vertical-align: top;\n",
       "    }\n",
       "\n",
       "    .dataframe thead th {\n",
       "        text-align: right;\n",
       "    }\n",
       "</style>\n",
       "<table border=\"1\" class=\"dataframe\">\n",
       "  <thead>\n",
       "    <tr style=\"text-align: right;\">\n",
       "      <th></th>\n",
       "      <th>Monthly Tracking</th>\n",
       "      <th>S&amp;P Composite</th>\n",
       "      <th>Dividend</th>\n",
       "      <th>Earnings</th>\n",
       "      <th>CPI</th>\n",
       "      <th>Long Interest Rate</th>\n",
       "      <th>Real Price</th>\n",
       "      <th>Real Dividend</th>\n",
       "      <th>Real Earning</th>\n",
       "      <th>Cyclically Adjusted PE Ratio</th>\n",
       "    </tr>\n",
       "  </thead>\n",
       "  <tbody>\n",
       "    <tr>\n",
       "      <th>104</th>\n",
       "      <td>2010-01-31</td>\n",
       "      <td>1123.58</td>\n",
       "      <td>22.240000</td>\n",
       "      <td>54.290000</td>\n",
       "      <td>216.687</td>\n",
       "      <td>3.73</td>\n",
       "      <td>1306.784565</td>\n",
       "      <td>25.866328</td>\n",
       "      <td>63.142219</td>\n",
       "      <td>20.527860</td>\n",
       "    </tr>\n",
       "    <tr>\n",
       "      <th>103</th>\n",
       "      <td>2010-02-28</td>\n",
       "      <td>1089.16</td>\n",
       "      <td>22.070000</td>\n",
       "      <td>57.610000</td>\n",
       "      <td>216.741</td>\n",
       "      <td>3.69</td>\n",
       "      <td>1266.436631</td>\n",
       "      <td>25.662213</td>\n",
       "      <td>66.986865</td>\n",
       "      <td>19.920539</td>\n",
       "    </tr>\n",
       "    <tr>\n",
       "      <th>102</th>\n",
       "      <td>2010-03-31</td>\n",
       "      <td>1152.05</td>\n",
       "      <td>21.900000</td>\n",
       "      <td>60.930000</td>\n",
       "      <td>217.631</td>\n",
       "      <td>3.73</td>\n",
       "      <td>1334.084762</td>\n",
       "      <td>25.360406</td>\n",
       "      <td>70.557514</td>\n",
       "      <td>21.004601</td>\n",
       "    </tr>\n",
       "    <tr>\n",
       "      <th>101</th>\n",
       "      <td>2010-04-30</td>\n",
       "      <td>1197.32</td>\n",
       "      <td>21.946667</td>\n",
       "      <td>62.986667</td>\n",
       "      <td>218.009</td>\n",
       "      <td>3.85</td>\n",
       "      <td>1384.103820</td>\n",
       "      <td>25.370381</td>\n",
       "      <td>72.812687</td>\n",
       "      <td>21.804846</td>\n",
       "    </tr>\n",
       "    <tr>\n",
       "      <th>100</th>\n",
       "      <td>2010-05-31</td>\n",
       "      <td>1125.06</td>\n",
       "      <td>21.993333</td>\n",
       "      <td>65.043333</td>\n",
       "      <td>218.178</td>\n",
       "      <td>3.42</td>\n",
       "      <td>1299.563727</td>\n",
       "      <td>25.404635</td>\n",
       "      <td>75.131954</td>\n",
       "      <td>20.480069</td>\n",
       "    </tr>\n",
       "  </tbody>\n",
       "</table>\n",
       "</div>"
      ],
      "text/plain": [
       "    Monthly Tracking  S&P Composite   Dividend   Earnings      CPI  \\\n",
       "104       2010-01-31        1123.58  22.240000  54.290000  216.687   \n",
       "103       2010-02-28        1089.16  22.070000  57.610000  216.741   \n",
       "102       2010-03-31        1152.05  21.900000  60.930000  217.631   \n",
       "101       2010-04-30        1197.32  21.946667  62.986667  218.009   \n",
       "100       2010-05-31        1125.06  21.993333  65.043333  218.178   \n",
       "\n",
       "     Long Interest Rate   Real Price  Real Dividend  Real Earning  \\\n",
       "104                3.73  1306.784565      25.866328     63.142219   \n",
       "103                3.69  1266.436631      25.662213     66.986865   \n",
       "102                3.73  1334.084762      25.360406     70.557514   \n",
       "101                3.85  1384.103820      25.370381     72.812687   \n",
       "100                3.42  1299.563727      25.404635     75.131954   \n",
       "\n",
       "     Cyclically Adjusted PE Ratio  \n",
       "104                     20.527860  \n",
       "103                     19.920539  \n",
       "102                     21.004601  \n",
       "101                     21.804846  \n",
       "100                     20.480069  "
      ]
     },
     "execution_count": 21,
     "metadata": {},
     "output_type": "execute_result"
    }
   ],
   "source": [
    "stock_clean = stock_clean.fillna(0)\n",
    "stock_present = stock_clean.loc[stock_clean[\"Monthly Tracking\"] >=\"2010-01-31\"]\n",
    "stock_present = stock_present.sort_values(\"Monthly Tracking\", ascending=True)\n",
    "stock_present.head()"
   ]
  },
  {
   "cell_type": "code",
   "execution_count": 22,
   "metadata": {},
   "outputs": [
    {
     "data": {
      "image/png": "[encoded data removed]",
      "text/plain": [
       "<Figure size 432x288 with 1 Axes>"
      ]
     },
     "metadata": {},
     "output_type": "display_data"
    }
   ],
   "source": [
    "stock_present.plot(kind=\"line\", x=\"Monthly Tracking\", y=\"CPI\")\n",
    "plt.title(\"Monthly Tracking of CPI\")\n",
    "plt.xlabel(\"Months Over Time\")\n",
    "plt.ylabel(\"CPI Rates\")\n",
    "plt.grid()\n",
    "plt.show()"
   ]
  },
  {
   "cell_type": "code",
   "execution_count": 23,
   "metadata": {},
   "outputs": [
    {
     "data": {
      "image/png": "[encoded data removed]",
      "text/plain": [
       "<Figure size 432x288 with 1 Axes>"
      ]
     },
     "metadata": {},
     "output_type": "display_data"
    }
   ],
   "source": [
    "stock_present.plot(kind=\"line\", x=\"Monthly Tracking\", y=\"Cyclically Adjusted PE Ratio\")\n",
    "plt.title(\"Monthly Tracking of PE Ratio\")\n",
    "plt.xticks(rotation = 90)\n",
    "plt.xlabel(\"Months Over Time\")\n",
    "plt.ylabel(\"PE Ratio\")\n",
    "plt.grid()\n",
    "plt.show()"
   ]
  },
  {
   "cell_type": "code",
   "execution_count": 25,
   "metadata": {},
   "outputs": [],
   "source": [
    "url_rates = \"https://www.quandl.com/api/v3/datasets/FRED/EFFR.json?\"\n",
    "query_rates = f'{url_rates}api_key={api_key1}'\n",
    "fed = requests.get(query_rates).json()"
   ]
  },
  {
   "cell_type": "code",
   "execution_count": 28,
   "metadata": {},
   "outputs": [
    {
     "data": {
      "text/html": [
       "<div>\n",
       "<style scoped>\n",
       "    .dataframe tbody tr th:only-of-type {\n",
       "        vertical-align: middle;\n",
       "    }\n",
       "\n",
       "    .dataframe tbody tr th {\n",
       "        vertical-align: top;\n",
       "    }\n",
       "\n",
       "    .dataframe thead th {\n",
       "        text-align: right;\n",
       "    }\n",
       "</style>\n",
       "<table border=\"1\" class=\"dataframe\">\n",
       "  <thead>\n",
       "    <tr style=\"text-align: right;\">\n",
       "      <th></th>\n",
       "      <th>Date</th>\n",
       "      <th>Value</th>\n",
       "    </tr>\n",
       "  </thead>\n",
       "  <tbody>\n",
       "    <tr>\n",
       "      <th>0</th>\n",
       "      <td>2018-10-04</td>\n",
       "      <td>2.18</td>\n",
       "    </tr>\n",
       "    <tr>\n",
       "      <th>1</th>\n",
       "      <td>2018-10-03</td>\n",
       "      <td>2.18</td>\n",
       "    </tr>\n",
       "    <tr>\n",
       "      <th>2</th>\n",
       "      <td>2018-10-02</td>\n",
       "      <td>2.18</td>\n",
       "    </tr>\n",
       "    <tr>\n",
       "      <th>3</th>\n",
       "      <td>2018-10-01</td>\n",
       "      <td>2.18</td>\n",
       "    </tr>\n",
       "    <tr>\n",
       "      <th>4</th>\n",
       "      <td>2018-09-28</td>\n",
       "      <td>2.18</td>\n",
       "    </tr>\n",
       "  </tbody>\n",
       "</table>\n",
       "</div>"
      ],
      "text/plain": [
       "         Date  Value\n",
       "0  2018-10-04   2.18\n",
       "1  2018-10-03   2.18\n",
       "2  2018-10-02   2.18\n",
       "3  2018-10-01   2.18\n",
       "4  2018-09-28   2.18"
      ]
     },
     "execution_count": 28,
     "metadata": {},
     "output_type": "execute_result"
    }
   ],
   "source": [
    "fed_data = pd.DataFrame(fed[\"dataset\"][\"data\"])\n",
    "fed_data = fed_data.rename(columns = {0: \"Date\", 1:\"Value\"})\n",
    "fed_data.head()"
   ]
  },
  {
   "cell_type": "code",
   "execution_count": 30,
   "metadata": {},
   "outputs": [
    {
     "data": {
      "image/png": "[encoded data removed]",
      "text/plain": [
       "<Figure size 432x288 with 1 Axes>"
      ]
     },
     "metadata": {},
     "output_type": "display_data"
    }
   ],
   "source": [
    "fed_data.plot(kind=\"line\", x=\"Date\", y=\"Value\")\n",
    "# plt.plot(fed_data[\"Date\"], fed_data[\"Value\"])\n",
    "plt.title(\"Rating of Cost Index Value\")\n",
    "plt.xlabel(\"Years Over Time\")\n",
    "plt.ylabel(\"Cost Index Value\")\n",
    "plt.grid()\n",
    "plt.show()"
   ]
  },
  {
   "cell_type": "code",
   "execution_count": 31,
   "metadata": {},
   "outputs": [],
   "source": [
    "url_CPI = \"https://www.quandl.com/api/v3/datasets/YALE/RBCI.json?\"\n",
    "query_CPI = f'{url_CPI}api_key={api_key1}'\n",
    "CPI = requests.get(query_CPI).json()"
   ]
  },
  {
   "cell_type": "code",
   "execution_count": 32,
   "metadata": {},
   "outputs": [],
   "source": [
    "CPI_data = pd.DataFrame(CPI[\"dataset\"][\"data\"])\n",
    "CPI_data = CPI_data.rename(columns = {0: \"Date\", 1:\"Cost Index\", 2: \"U.S. Population (Millions)\", 3:\"Long Rate\"})"
   ]
  },
  {
   "cell_type": "code",
   "execution_count": 33,
   "metadata": {},
   "outputs": [],
   "source": [
    "CPI_clean = CPI_data.fillna(0)\n",
    "CPI_clean = CPI_clean.loc[(CPI_clean[\"Date\"] < \"2016-12-31\") & (CPI_clean[\"Date\"] >= \"2000-12-31\"), :]\n",
    "CPI_clean = CPI_clean.sort_values(\"Date\", ascending=True)"
   ]
  },
  {
   "cell_type": "code",
   "execution_count": 35,
   "metadata": {},
   "outputs": [
    {
     "data": {
      "image/png": "[encoded data removed]",
      "text/plain": [
       "<Figure size 432x288 with 1 Axes>"
      ]
     },
     "metadata": {},
     "output_type": "display_data"
    }
   ],
   "source": [
    "# CPI_clean.plot(kind=\"line\", x=\"Date\", y=\"Cost Index\")\n",
    "plt.plot(CPI_clean[\"Date\"], CPI_clean[\"Cost Index\"])\n",
    "plt.title(\"Increasing of Cost Index Over the Years\")\n",
    "plt.xlabel(\"Years\")\n",
    "plt.xticks(rotation=60)\n",
    "plt.grid()\n",
    "plt.show()"
   ]
  },
  {
   "cell_type": "code",
   "execution_count": null,
   "metadata": {},
   "outputs": [],
   "source": []
  }
 ],
 "metadata": {
  "kernelspec": {
   "display_name": "Python [conda env:PythonData]",
   "language": "python",
   "name": "conda-env-PythonData-py"
  },
  "language_info": {
   "codemirror_mode": {
    "name": "ipython",
    "version": 3
   },
   "file_extension": ".py",
   "mimetype": "text/x-python",
   "name": "python",
   "nbconvert_exporter": "python",
   "pygments_lexer": "ipython3",
   "version": "3.6.5"
  }
 },
 "nbformat": 4,
 "nbformat_minor": 2
}
