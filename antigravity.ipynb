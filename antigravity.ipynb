{
 "cells": [
  {
   "cell_type": "code",
   "execution_count": 1,
   "metadata": {},
   "outputs": [],
   "source": [
    "# Dependencies\n",
    "import numpy as np\n",
    "import pandas as pd\n",
    "import matplotlib.pyplot as plt\n",
    "import requests\n",
    "import json\n",
    "import quandl"
   ]
  },
  {
   "cell_type": "code",
   "execution_count": 2,
   "metadata": {},
   "outputs": [],
   "source": [
    "# Quandl API Keys\n",
    "#from config import api_key\n",
    "api_key = \"96042e6658cd41ef3713d6df5e943609\""
   ]
  },
  {
   "cell_type": "code",
   "execution_count": 3,
   "metadata": {},
   "outputs": [],
   "source": [
    "#Python API for FRED (Federal Reserve Economic Data) and ALFRED (Archival FRED)\n",
    "from fredapi import Fred"
   ]
  },
  {
   "cell_type": "code",
   "execution_count": 4,
   "metadata": {},
   "outputs": [],
   "source": [
    "#Delinquency Rate on Single-Family Residential Mortgages\n",
    "Delinquencydata = quandl.get(\"FRED/DRSFRMACBN\", authtoken=\"y7AX1dy3giQQhANZj-7n\", start_date=\"2000-01-01\")"
   ]
  },
  {
   "cell_type": "code",
   "execution_count": 5,
   "metadata": {},
   "outputs": [
    {
     "data": {
      "text/html": [
       "<div>\n",
       "<style scoped>\n",
       "    .dataframe tbody tr th:only-of-type {\n",
       "        vertical-align: middle;\n",
       "    }\n",
       "\n",
       "    .dataframe tbody tr th {\n",
       "        vertical-align: top;\n",
       "    }\n",
       "\n",
       "    .dataframe thead th {\n",
       "        text-align: right;\n",
       "    }\n",
       "</style>\n",
       "<table border=\"1\" class=\"dataframe\">\n",
       "  <thead>\n",
       "    <tr style=\"text-align: right;\">\n",
       "      <th></th>\n",
       "      <th>Value</th>\n",
       "    </tr>\n",
       "    <tr>\n",
       "      <th>Date</th>\n",
       "      <th></th>\n",
       "    </tr>\n",
       "  </thead>\n",
       "  <tbody>\n",
       "    <tr>\n",
       "      <th>2000-01-01</th>\n",
       "      <td>1.95</td>\n",
       "    </tr>\n",
       "    <tr>\n",
       "      <th>2000-04-01</th>\n",
       "      <td>1.89</td>\n",
       "    </tr>\n",
       "    <tr>\n",
       "      <th>2000-07-01</th>\n",
       "      <td>2.07</td>\n",
       "    </tr>\n",
       "    <tr>\n",
       "      <th>2000-10-01</th>\n",
       "      <td>2.42</td>\n",
       "    </tr>\n",
       "    <tr>\n",
       "      <th>2001-01-01</th>\n",
       "      <td>2.28</td>\n",
       "    </tr>\n",
       "  </tbody>\n",
       "</table>\n",
       "</div>"
      ],
      "text/plain": [
       "            Value\n",
       "Date             \n",
       "2000-01-01   1.95\n",
       "2000-04-01   1.89\n",
       "2000-07-01   2.07\n",
       "2000-10-01   2.42\n",
       "2001-01-01   2.28"
      ]
     },
     "execution_count": 5,
     "metadata": {},
     "output_type": "execute_result"
    }
   ],
   "source": [
    "Delinquencydata.head()"
   ]
  },
  {
   "cell_type": "code",
   "execution_count": 6,
   "metadata": {},
   "outputs": [
    {
     "data": {
      "image/png": "[encoded data removed]",
      "text/plain": [
       "<Figure size 432x288 with 1 Axes>"
      ]
     },
     "metadata": {},
     "output_type": "display_data"
    }
   ],
   "source": [
    "Delinquencydata = Delinquencydata.reset_index()\n",
    "x_vals = Delinquencydata[\"Date\"]\n",
    "y_vals = Delinquencydata[\"Value\"]\n",
    "plt.plot(x_vals,\n",
    "        y_vals, marker=\"o\", linewidth=0.5,\n",
    "        alpha=0.8)\n",
    "# Add labels to the x and y axes and a title\n",
    "plt.title(\"Delinquency Rate on Single-Family Residential Mortgages\")\n",
    "plt.xlabel(\"Years\")\n",
    "plt.ylabel(\"Percent\")\n",
    "plt.show()"
   ]
  },
  {
   "cell_type": "code",
   "execution_count": 7,
   "metadata": {},
   "outputs": [],
   "source": [
    "# US Corporate Bonds Total Return Index\n",
    "USCorpBondsTRIndex = quandl.get(\"ML/TRI\", authtoken=\"y7AX1dy3giQQhANZj-7n\", start_date=\"2000-01-01\")"
   ]
  },
  {
   "cell_type": "code",
   "execution_count": 8,
   "metadata": {},
   "outputs": [
    {
     "data": {
      "text/html": [
       "<div>\n",
       "<style scoped>\n",
       "    .dataframe tbody tr th:only-of-type {\n",
       "        vertical-align: middle;\n",
       "    }\n",
       "\n",
       "    .dataframe tbody tr th {\n",
       "        vertical-align: top;\n",
       "    }\n",
       "\n",
       "    .dataframe thead th {\n",
       "        text-align: right;\n",
       "    }\n",
       "</style>\n",
       "<table border=\"1\" class=\"dataframe\">\n",
       "  <thead>\n",
       "    <tr style=\"text-align: right;\">\n",
       "      <th></th>\n",
       "      <th>BAMLCC0A0CMTRIV</th>\n",
       "    </tr>\n",
       "    <tr>\n",
       "      <th>DATE</th>\n",
       "      <th></th>\n",
       "    </tr>\n",
       "  </thead>\n",
       "  <tbody>\n",
       "    <tr>\n",
       "      <th>2000-01-03</th>\n",
       "      <td>991.58</td>\n",
       "    </tr>\n",
       "    <tr>\n",
       "      <th>2000-01-04</th>\n",
       "      <td>995.74</td>\n",
       "    </tr>\n",
       "    <tr>\n",
       "      <th>2000-01-05</th>\n",
       "      <td>990.59</td>\n",
       "    </tr>\n",
       "    <tr>\n",
       "      <th>2000-01-06</th>\n",
       "      <td>993.67</td>\n",
       "    </tr>\n",
       "    <tr>\n",
       "      <th>2000-01-07</th>\n",
       "      <td>995.12</td>\n",
       "    </tr>\n",
       "  </tbody>\n",
       "</table>\n",
       "</div>"
      ],
      "text/plain": [
       "            BAMLCC0A0CMTRIV\n",
       "DATE                       \n",
       "2000-01-03           991.58\n",
       "2000-01-04           995.74\n",
       "2000-01-05           990.59\n",
       "2000-01-06           993.67\n",
       "2000-01-07           995.12"
      ]
     },
     "execution_count": 8,
     "metadata": {},
     "output_type": "execute_result"
    }
   ],
   "source": [
    "USCorpBondsTRIndex.head()"
   ]
  },
  {
   "cell_type": "code",
   "execution_count": 9,
   "metadata": {},
   "outputs": [
    {
     "data": {
      "image/png": "[encoded data removed]",
      "text/plain": [
       "<Figure size 432x288 with 1 Axes>"
      ]
     },
     "metadata": {},
     "output_type": "display_data"
    }
   ],
   "source": [
    "USCorpBondsTRIndex = USCorpBondsTRIndex.reset_index()\n",
    "USCorpBondsTRIndex.head()\n",
    "x_vals = USCorpBondsTRIndex[\"DATE\"]\n",
    "y_vals = USCorpBondsTRIndex[\"BAMLCC0A0CMTRIV\"]\n",
    "plt.plot(x_vals,\n",
    "        y_vals, marker=\"o\", linewidth=0.5,\n",
    "        alpha=0.8)\n",
    "# Add labels to the x and y axes and a title\n",
    "plt.title(\"US Corporate Bonds Total Return Index\")\n",
    "plt.xlabel(\"Years\")\n",
    "plt.ylabel(\"Bond Yield\")\n",
    "plt.show()"
   ]
  },
  {
   "cell_type": "code",
   "execution_count": 10,
   "metadata": {},
   "outputs": [
    {
     "data": {
      "text/html": [
       "<div>\n",
       "<style scoped>\n",
       "    .dataframe tbody tr th:only-of-type {\n",
       "        vertical-align: middle;\n",
       "    }\n",
       "\n",
       "    .dataframe tbody tr th {\n",
       "        vertical-align: top;\n",
       "    }\n",
       "\n",
       "    .dataframe thead th {\n",
       "        text-align: right;\n",
       "    }\n",
       "</style>\n",
       "<table border=\"1\" class=\"dataframe\">\n",
       "  <thead>\n",
       "    <tr style=\"text-align: right;\">\n",
       "      <th></th>\n",
       "      <th>Year</th>\n",
       "      <th>Ratio</th>\n",
       "    </tr>\n",
       "  </thead>\n",
       "  <tbody>\n",
       "    <tr>\n",
       "      <th>0</th>\n",
       "      <td>2005-01-01</td>\n",
       "      <td>87.526043</td>\n",
       "    </tr>\n",
       "    <tr>\n",
       "      <th>1</th>\n",
       "      <td>2005-04-01</td>\n",
       "      <td>88.954086</td>\n",
       "    </tr>\n",
       "    <tr>\n",
       "      <th>2</th>\n",
       "      <td>2005-07-01</td>\n",
       "      <td>90.028409</td>\n",
       "    </tr>\n",
       "    <tr>\n",
       "      <th>3</th>\n",
       "      <td>2005-10-01</td>\n",
       "      <td>91.010713</td>\n",
       "    </tr>\n",
       "    <tr>\n",
       "      <th>4</th>\n",
       "      <td>2006-01-01</td>\n",
       "      <td>91.848972</td>\n",
       "    </tr>\n",
       "  </tbody>\n",
       "</table>\n",
       "</div>"
      ],
      "text/plain": [
       "        Year      Ratio\n",
       "0 2005-01-01  87.526043\n",
       "1 2005-04-01  88.954086\n",
       "2 2005-07-01  90.028409\n",
       "3 2005-10-01  91.010713\n",
       "4 2006-01-01  91.848972"
      ]
     },
     "execution_count": 10,
     "metadata": {},
     "output_type": "execute_result"
    }
   ],
   "source": [
    "# Household Debt to GDP for United States\n",
    "from fredapi import Fred\n",
    "fred = Fred(api_key='96042e6658cd41ef3713d6df5e943609')\n",
    "data = fred.get_series('HDTGPDUSQ163N', '1/1/2000', '1/10/2018')\n",
    "data_df = pd.DataFrame(data)\n",
    "data_df = data_df.reset_index()\n",
    "data_df.columns = ['Year','Ratio']\n",
    "data_df.head()\n"
   ]
  },
  {
   "cell_type": "code",
   "execution_count": 11,
   "metadata": {},
   "outputs": [
    {
     "data": {
      "image/png": "[encoded data removed]",
      "text/plain": [
       "<Figure size 432x288 with 1 Axes>"
      ]
     },
     "metadata": {},
     "output_type": "display_data"
    }
   ],
   "source": [
    "# Plot U.S. Corporations: Short-term Debt (API KEY QFR301376USNO)\n",
    "x_vals = data_df[\"Year\"]\n",
    "y_vals = data_df[\"Ratio\"]\n",
    "plt.plot(x_vals,\n",
    "        y_vals, marker=\"o\", linewidth=0.5,\n",
    "        alpha=0.8)\n",
    "# Add labels to the x and y axes and a title\n",
    "plt.title(\"Household Debt to GDP for United States\")\n",
    "plt.xlabel(\"Years\")\n",
    "plt.ylabel(\"Household Debt to GDP Ratio\")\n",
    "plt.show()"
   ]
  },
  {
   "cell_type": "code",
   "execution_count": 12,
   "metadata": {},
   "outputs": [
    {
     "data": {
      "text/html": [
       "<div>\n",
       "<style scoped>\n",
       "    .dataframe tbody tr th:only-of-type {\n",
       "        vertical-align: middle;\n",
       "    }\n",
       "\n",
       "    .dataframe tbody tr th {\n",
       "        vertical-align: top;\n",
       "    }\n",
       "\n",
       "    .dataframe thead th {\n",
       "        text-align: right;\n",
       "    }\n",
       "</style>\n",
       "<table border=\"1\" class=\"dataframe\">\n",
       "  <thead>\n",
       "    <tr style=\"text-align: right;\">\n",
       "      <th></th>\n",
       "      <th>Year</th>\n",
       "      <th>Millions of Dollars</th>\n",
       "    </tr>\n",
       "  </thead>\n",
       "  <tbody>\n",
       "    <tr>\n",
       "      <th>0</th>\n",
       "      <td>2000-01-01</td>\n",
       "      <td>2583458.0</td>\n",
       "    </tr>\n",
       "    <tr>\n",
       "      <th>1</th>\n",
       "      <td>2000-04-01</td>\n",
       "      <td>2652682.0</td>\n",
       "    </tr>\n",
       "    <tr>\n",
       "      <th>2</th>\n",
       "      <td>2000-07-01</td>\n",
       "      <td>2706602.0</td>\n",
       "    </tr>\n",
       "    <tr>\n",
       "      <th>3</th>\n",
       "      <td>2000-10-01</td>\n",
       "      <td>2708403.0</td>\n",
       "    </tr>\n",
       "    <tr>\n",
       "      <th>4</th>\n",
       "      <td>2001-01-01</td>\n",
       "      <td>2767668.0</td>\n",
       "    </tr>\n",
       "  </tbody>\n",
       "</table>\n",
       "</div>"
      ],
      "text/plain": [
       "        Year  Millions of Dollars\n",
       "0 2000-01-01            2583458.0\n",
       "1 2000-04-01            2652682.0\n",
       "2 2000-07-01            2706602.0\n",
       "3 2000-10-01            2708403.0\n",
       "4 2001-01-01            2767668.0"
      ]
     },
     "execution_count": 12,
     "metadata": {},
     "output_type": "execute_result"
    }
   ],
   "source": [
    "# Nonfinancial corporate business; debt securities; liability, Level\n",
    "# FRED API_KEY NCBDBIQ027S\n",
    "from fredapi import Fred\n",
    "fred = Fred(api_key='96042e6658cd41ef3713d6df5e943609')\n",
    "data = fred.get_series('NCBDBIQ027S', '1/1/2000', '1/10/2018')\n",
    "data_df = pd.DataFrame(data)\n",
    "data_df = data_df.reset_index()\n",
    "data_df.columns = ['Year','Millions of Dollars']\n",
    "data_df.head()\n"
   ]
  },
  {
   "cell_type": "code",
   "execution_count": 13,
   "metadata": {},
   "outputs": [
    {
     "data": {
      "image/png": "[encoded data removed]",
      "text/plain": [
       "<Figure size 432x288 with 1 Axes>"
      ]
     },
     "metadata": {},
     "output_type": "display_data"
    }
   ],
   "source": [
    "# Plot Nonfinancial corporate business; debt securities; liability, Level\n",
    "# FRED API_KEY NCBDBIQ027S\n",
    "x_vals = data_df[\"Year\"]\n",
    "y_vals = data_df[\"Millions of Dollars\"]\n",
    "plt.plot(x_vals,\n",
    "        y_vals, marker=\"o\", linewidth=0.5,\n",
    "        alpha=0.8)\n",
    "# Add labels to the x and y axes and a title\n",
    "plt.title(\"Corporate Business Debt in United States\")\n",
    "plt.xlabel(\"Years\")\n",
    "plt.ylabel(\"Outstanding Corporate Debt In Millions of Dollars\")\n",
    "plt.show()"
   ]
  },
  {
   "cell_type": "code",
   "execution_count": 14,
   "metadata": {},
   "outputs": [
    {
     "data": {
      "text/html": [
       "<div>\n",
       "<style scoped>\n",
       "    .dataframe tbody tr th:only-of-type {\n",
       "        vertical-align: middle;\n",
       "    }\n",
       "\n",
       "    .dataframe tbody tr th {\n",
       "        vertical-align: top;\n",
       "    }\n",
       "\n",
       "    .dataframe thead th {\n",
       "        text-align: right;\n",
       "    }\n",
       "</style>\n",
       "<table border=\"1\" class=\"dataframe\">\n",
       "  <thead>\n",
       "    <tr style=\"text-align: right;\">\n",
       "      <th></th>\n",
       "      <th>Year</th>\n",
       "      <th>Percent of GDP</th>\n",
       "    </tr>\n",
       "  </thead>\n",
       "  <tbody>\n",
       "    <tr>\n",
       "      <th>0</th>\n",
       "      <td>2000-01-01</td>\n",
       "      <td>57.71743</td>\n",
       "    </tr>\n",
       "    <tr>\n",
       "      <th>1</th>\n",
       "      <td>2000-04-01</td>\n",
       "      <td>55.48513</td>\n",
       "    </tr>\n",
       "    <tr>\n",
       "      <th>2</th>\n",
       "      <td>2000-07-01</td>\n",
       "      <td>54.98329</td>\n",
       "    </tr>\n",
       "    <tr>\n",
       "      <th>3</th>\n",
       "      <td>2000-10-01</td>\n",
       "      <td>54.24085</td>\n",
       "    </tr>\n",
       "    <tr>\n",
       "      <th>4</th>\n",
       "      <td>2001-01-01</td>\n",
       "      <td>55.13040</td>\n",
       "    </tr>\n",
       "  </tbody>\n",
       "</table>\n",
       "</div>"
      ],
      "text/plain": [
       "        Year  Percent of GDP\n",
       "0 2000-01-01        57.71743\n",
       "1 2000-04-01        55.48513\n",
       "2 2000-07-01        54.98329\n",
       "3 2000-10-01        54.24085\n",
       "4 2001-01-01        55.13040"
      ]
     },
     "execution_count": 14,
     "metadata": {},
     "output_type": "execute_result"
    }
   ],
   "source": [
    "# Federal Debt: Total Public Debt as Percent of Gross Domestic Product\n",
    "# FRED API_KEY GFDEGDQ188S\n",
    "from fredapi import Fred\n",
    "fred = Fred(api_key='96042e6658cd41ef3713d6df5e943609')\n",
    "data = fred.get_series('GFDEGDQ188S', '1/1/2000', '1/10/2018')\n",
    "data_df = pd.DataFrame(data)\n",
    "data_df = data_df.reset_index()\n",
    "data_df.columns = ['Year','Percent of GDP']\n",
    "data_df.head()\n"
   ]
  },
  {
   "cell_type": "code",
   "execution_count": 15,
   "metadata": {},
   "outputs": [
    {
     "data": {
      "text/html": [
       "<div>\n",
       "<style scoped>\n",
       "    .dataframe tbody tr th:only-of-type {\n",
       "        vertical-align: middle;\n",
       "    }\n",
       "\n",
       "    .dataframe tbody tr th {\n",
       "        vertical-align: top;\n",
       "    }\n",
       "\n",
       "    .dataframe thead th {\n",
       "        text-align: right;\n",
       "    }\n",
       "</style>\n",
       "<table border=\"1\" class=\"dataframe\">\n",
       "  <thead>\n",
       "    <tr style=\"text-align: right;\">\n",
       "      <th></th>\n",
       "      <th>Year</th>\n",
       "      <th>Billions of chained 2012 Dollars</th>\n",
       "    </tr>\n",
       "  </thead>\n",
       "  <tbody>\n",
       "    <tr>\n",
       "      <th>0</th>\n",
       "      <td>2000-01-01</td>\n",
       "      <td>10002.857</td>\n",
       "    </tr>\n",
       "    <tr>\n",
       "      <th>1</th>\n",
       "      <td>2000-04-01</td>\n",
       "      <td>10247.679</td>\n",
       "    </tr>\n",
       "    <tr>\n",
       "      <th>2</th>\n",
       "      <td>2000-07-01</td>\n",
       "      <td>10319.825</td>\n",
       "    </tr>\n",
       "    <tr>\n",
       "      <th>3</th>\n",
       "      <td>2000-10-01</td>\n",
       "      <td>10439.025</td>\n",
       "    </tr>\n",
       "    <tr>\n",
       "      <th>4</th>\n",
       "      <td>2001-01-01</td>\n",
       "      <td>10472.879</td>\n",
       "    </tr>\n",
       "  </tbody>\n",
       "</table>\n",
       "</div>"
      ],
      "text/plain": [
       "        Year  Billions of chained 2012 Dollars\n",
       "0 2000-01-01                         10002.857\n",
       "1 2000-04-01                         10247.679\n",
       "2 2000-07-01                         10319.825\n",
       "3 2000-10-01                         10439.025\n",
       "4 2001-01-01                         10472.879"
      ]
     },
     "execution_count": 15,
     "metadata": {},
     "output_type": "execute_result"
    }
   ],
   "source": [
    "# Real Gross Domestic Product \n",
    "# FRED API_KEY GDP\n",
    "from fredapi import Fred\n",
    "fred = Fred(api_key='96042e6658cd41ef3713d6df5e943609')\n",
    "data = fred.get_series('GDP', '1/1/2000', '1/10/2018')\n",
    "data_df = pd.DataFrame(data)\n",
    "data_df = data_df.reset_index()\n",
    "data_df.columns = ['Year','Billions of chained 2012 Dollars']\n",
    "data_df.head()"
   ]
  },
  {
   "cell_type": "code",
   "execution_count": 16,
   "metadata": {},
   "outputs": [
    {
     "data": {
      "text/html": [
       "<div>\n",
       "<style scoped>\n",
       "    .dataframe tbody tr th:only-of-type {\n",
       "        vertical-align: middle;\n",
       "    }\n",
       "\n",
       "    .dataframe tbody tr th {\n",
       "        vertical-align: top;\n",
       "    }\n",
       "\n",
       "    .dataframe thead th {\n",
       "        text-align: right;\n",
       "    }\n",
       "</style>\n",
       "<table border=\"1\" class=\"dataframe\">\n",
       "  <thead>\n",
       "    <tr style=\"text-align: right;\">\n",
       "      <th></th>\n",
       "      <th>Year</th>\n",
       "      <th>Case Index</th>\n",
       "    </tr>\n",
       "  </thead>\n",
       "  <tbody>\n",
       "    <tr>\n",
       "      <th>0</th>\n",
       "      <td>2000-01-01</td>\n",
       "      <td>100.000</td>\n",
       "    </tr>\n",
       "    <tr>\n",
       "      <th>1</th>\n",
       "      <td>2000-02-01</td>\n",
       "      <td>100.570</td>\n",
       "    </tr>\n",
       "    <tr>\n",
       "      <th>2</th>\n",
       "      <td>2000-03-01</td>\n",
       "      <td>101.465</td>\n",
       "    </tr>\n",
       "    <tr>\n",
       "      <th>3</th>\n",
       "      <td>2000-04-01</td>\n",
       "      <td>102.541</td>\n",
       "    </tr>\n",
       "    <tr>\n",
       "      <th>4</th>\n",
       "      <td>2000-05-01</td>\n",
       "      <td>103.703</td>\n",
       "    </tr>\n",
       "  </tbody>\n",
       "</table>\n",
       "</div>"
      ],
      "text/plain": [
       "        Year  Case Index\n",
       "0 2000-01-01     100.000\n",
       "1 2000-02-01     100.570\n",
       "2 2000-03-01     101.465\n",
       "3 2000-04-01     102.541\n",
       "4 2000-05-01     103.703"
      ]
     },
     "execution_count": 16,
     "metadata": {},
     "output_type": "execute_result"
    }
   ],
   "source": [
    "# S&P/Case-Shiller U.S. National Home Price Index \n",
    "# FRED API_KEY CSUSHPINSA\n",
    "from fredapi import Fred\n",
    "fred = Fred(api_key='96042e6658cd41ef3713d6df5e943609')\n",
    "data = fred.get_series('CSUSHPINSA', '1/1/2000', '1/10/2018')\n",
    "data_df = pd.DataFrame(data)\n",
    "data_df = data_df.reset_index()\n",
    "data_df.columns = ['Year','Case Index']\n",
    "data_df.head()"
   ]
  },
  {
   "cell_type": "code",
   "execution_count": 17,
   "metadata": {},
   "outputs": [
    {
     "data": {
      "image/png": "[encoded data removed]",
      "text/plain": [
       "<Figure size 432x288 with 1 Axes>"
      ]
     },
     "metadata": {},
     "output_type": "display_data"
    }
   ],
   "source": [
    "# plot \n",
    "x_vals = data_df[\"Year\"]\n",
    "y_vals = data_df[\"Case Index\"]\n",
    "plt.plot(x_vals,\n",
    "        y_vals, marker=\"o\", linewidth=0.5,\n",
    "        alpha=0.8)\n",
    "# Add labels to the x and y axes and a title\n",
    "plt.title(\"S&P/Case-Shiller U.S. National Home Price Index\")\n",
    "plt.xlabel(\"Years\")\n",
    "plt.ylabel(\"Index\")\n",
    "plt.show()"
   ]
  },
  {
   "cell_type": "code",
   "execution_count": 18,
   "metadata": {},
   "outputs": [
    {
     "data": {
      "image/png": "[encoded data removed]",
      "text/plain": [
       "<Figure size 720x576 with 1 Axes>"
      ]
     },
     "metadata": {},
     "output_type": "display_data"
    }
   ],
   "source": [
    "#Load CSV\n",
    "file_to_load = \"resource/TotalHousing.csv\"\n",
    "housing_data = pd.read_csv(file_to_load)\n",
    "\n",
    "#Remove extraneous rows\n",
    "update_housing_df=housing_data.drop(housing_data.index[19:52])\n",
    "\n",
    "#Remove repeated rows\n",
    "new_housing=update_housing_df.drop(update_housing_df.index[4])\n",
    "\n",
    "#Check data types\n",
    "new_housing.dtypes\n",
    "\n",
    "#Plot figure\n",
    "plt.figure(figsize=(10,8))\n",
    "x_axis=new_housing[\"Year\"]\n",
    "y_axis=new_housing[\"Estimate\"]\n",
    "plt.plot(x_axis,y_axis,marker=\"o\")\n",
    "plt.xlim(2000,2018)\n",
    "plt.ylim(50000,62000)\n",
    "plt.title(\"Household Median Income 2000-2018\")\n",
    "plt.xlabel(\"Year\")\n",
    "plt.ylabel(\"Median Income(USD)\")\n",
    "plt.show()\n",
    "\n",
    "#Save Figure\n",
    "    #plt.savefig(\"House Median Income.png\")\n",
    "\n",
    "#Percent Change\n"
   ]
  },
  {
   "cell_type": "code",
   "execution_count": null,
   "metadata": {},
   "outputs": [],
   "source": []
  }
 ],
 "metadata": {
  "kernelspec": {
   "display_name": "Python [conda env:PythonData]",
   "language": "python",
   "name": "conda-env-PythonData-py"
  },
  "language_info": {
   "codemirror_mode": {
    "name": "ipython",
    "version": 3
   },
   "file_extension": ".py",
   "mimetype": "text/x-python",
   "name": "python",
   "nbconvert_exporter": "python",
   "pygments_lexer": "ipython3",
   "version": "3.6.5"
  }
 },
 "nbformat": 4,
 "nbformat_minor": 2
}
